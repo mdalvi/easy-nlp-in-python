{
 "cells": [
  {
   "cell_type": "markdown",
   "metadata": {
    "collapsed": true
   },
   "source": [
    "# Easy natural language processing"
   ]
  },
  {
   "cell_type": "markdown",
   "metadata": {},
   "source": [
    "## Outline"
   ]
  },
  {
   "cell_type": "markdown",
   "metadata": {},
   "source": [
    "* Quick rundown of NLP taks\n",
    "* Build your own spam detector\n",
    "* Build your own sentiment analyzer\n",
    "* NLTK library exploration\n",
    "* Latent semantic analysis (LSA)\n",
    "* Build your own article spinner"
   ]
  },
  {
   "cell_type": "markdown",
   "metadata": {},
   "source": [
    "---------------------------------------------------------------------"
   ]
  },
  {
   "cell_type": "markdown",
   "metadata": {},
   "source": [
    "## NLP applications"
   ]
  },
  {
   "cell_type": "markdown",
   "metadata": {},
   "source": [
    "### Very good @"
   ]
  },
  {
   "cell_type": "markdown",
   "metadata": {},
   "source": [
    "* **Spam detection**\n",
    "    - Filtering spam emails in inbox and/or categorizing them like \"Primary\", \"Social\" etc.\n",
    "\n",
    "\n",
    "* **POS (parts-of-speech) tagging**\n",
    "    - Given a sentence, we identify noun, adjective, verb etc.\n",
    "\n",
    "\n",
    "* **NER (named-entity recognition)**\n",
    "    - Given a sentence, we identify whether the word represents a person, an organization etc."
   ]
  },
  {
   "cell_type": "markdown",
   "metadata": {},
   "source": [
    "==============================================================="
   ]
  },
  {
   "cell_type": "markdown",
   "metadata": {},
   "source": [
    "### Pretty good @"
   ]
  },
  {
   "cell_type": "markdown",
   "metadata": {},
   "source": [
    "* **Sentiment analysis**\n",
    "    - Assigning a score to a sentence based on word analysis.\n",
    "    \n",
    "    \n",
    "* **Machine Translation**\n",
    "    - Translating text into different languages\n",
    "    \n",
    "    \n",
    "* **Information Extraction**\n",
    "    - E.g. Adding events to the calender by automatically reading content of message."
   ]
  },
  {
   "cell_type": "markdown",
   "metadata": {},
   "source": [
    "==============================================================="
   ]
  },
  {
   "cell_type": "markdown",
   "metadata": {},
   "source": [
    "### Needs Improvement"
   ]
  },
  {
   "cell_type": "markdown",
   "metadata": {},
   "source": [
    "* **Machine conversations**\n",
    "    - Speech recognition (Cortana, Siri), extracting meaning from spoken words and replying with meaningful response.\n",
    "\n",
    "\n",
    "* **Paraphrasing and summarization**\n",
    "    - Summarize an article into few sentences (AI base AMP)"
   ]
  },
  {
   "cell_type": "markdown",
   "metadata": {},
   "source": [
    "---------------------------------------------------------------------"
   ]
  },
  {
   "cell_type": "markdown",
   "metadata": {},
   "source": [
    "## Why is NLP hard?"
   ]
  },
  {
   "cell_type": "markdown",
   "metadata": {},
   "source": [
    "### Ambiguity 1\n",
    "\n",
    "Republicans Grill IRS Chief Over Lost Emails\n",
    "\n",
    "Interpretations:\n",
    "\n",
    "1. Republicans harshly question the chief about the emails\n",
    "2. Republicans cook the chief using email as the fuel"
   ]
  },
  {
   "cell_type": "markdown",
   "metadata": {},
   "source": [
    "### Ambiguity 2\n",
    "\n",
    "I saw a man on a hill with a telescope.\n",
    "\n",
    "Interpretations:\n",
    "\n",
    "1. There's a man on a hill, and I'm watching him with my telescope.\n",
    "2. There's a man on a hill, who I'm seeing, and he has a telescope.\n",
    "3. There's a man, and he's on a hill that also has a telescope on it.\n",
    "4. I'm on a hill, and I saw a man using a telescope"
   ]
  },
  {
   "cell_type": "markdown",
   "metadata": {},
   "source": [
    "### Ambiguity 3\n",
    "\n",
    "Twitter feeds: 'u', 'ur', 'lol', 'netflix and chill'"
   ]
  },
  {
   "cell_type": "markdown",
   "metadata": {
    "collapsed": true
   },
   "source": [
    "# Building a spam detector"
   ]
  },
  {
   "cell_type": "markdown",
   "metadata": {},
   "source": [
    "Dataset: [https://archive.ics.uci.edu/ml/datasets/Spambase]"
   ]
  },
  {
   "cell_type": "markdown",
   "metadata": {},
   "source": [
    "### Data description"
   ]
  },
  {
   "cell_type": "markdown",
   "metadata": {},
   "source": [
    "**Columns 1 - 48: word frequency measure** - number of times a word appears divided by number of words in document * 100"
   ]
  },
  {
   "cell_type": "markdown",
   "metadata": {},
   "source": [
    "**Last column is label**: 1 = spam, 0 = not spam"
   ]
  },
  {
   "cell_type": "code",
   "execution_count": 42,
   "metadata": {
    "collapsed": true
   },
   "outputs": [],
   "source": [
    "# http://scikit-learn.org/stable/modules/generated/sklearn.naive_bayes.MultinomialNB.html\n",
    "from sklearn.naive_bayes import MultinomialNB\n",
    "from sklearn.model_selection import train_test_split\n",
    "import pandas as pd\n",
    "import numpy as np"
   ]
  },
  {
   "cell_type": "code",
   "execution_count": 43,
   "metadata": {},
   "outputs": [
    {
     "data": {
      "text/html": [
       "<div>\n",
       "<style>\n",
       "    .dataframe thead tr:only-child th {\n",
       "        text-align: right;\n",
       "    }\n",
       "\n",
       "    .dataframe thead th {\n",
       "        text-align: left;\n",
       "    }\n",
       "\n",
       "    .dataframe tbody tr th {\n",
       "        vertical-align: top;\n",
       "    }\n",
       "</style>\n",
       "<table border=\"1\" class=\"dataframe\">\n",
       "  <thead>\n",
       "    <tr style=\"text-align: right;\">\n",
       "      <th></th>\n",
       "      <th>0</th>\n",
       "      <th>1</th>\n",
       "      <th>2</th>\n",
       "      <th>3</th>\n",
       "      <th>4</th>\n",
       "      <th>5</th>\n",
       "      <th>6</th>\n",
       "      <th>7</th>\n",
       "      <th>8</th>\n",
       "      <th>9</th>\n",
       "      <th>...</th>\n",
       "      <th>48</th>\n",
       "      <th>49</th>\n",
       "      <th>50</th>\n",
       "      <th>51</th>\n",
       "      <th>52</th>\n",
       "      <th>53</th>\n",
       "      <th>54</th>\n",
       "      <th>55</th>\n",
       "      <th>56</th>\n",
       "      <th>57</th>\n",
       "    </tr>\n",
       "  </thead>\n",
       "  <tbody>\n",
       "    <tr>\n",
       "      <th>0</th>\n",
       "      <td>0.00</td>\n",
       "      <td>0.64</td>\n",
       "      <td>0.64</td>\n",
       "      <td>0.0</td>\n",
       "      <td>0.32</td>\n",
       "      <td>0.00</td>\n",
       "      <td>0.00</td>\n",
       "      <td>0.00</td>\n",
       "      <td>0.00</td>\n",
       "      <td>0.00</td>\n",
       "      <td>...</td>\n",
       "      <td>0.00</td>\n",
       "      <td>0.000</td>\n",
       "      <td>0.0</td>\n",
       "      <td>0.778</td>\n",
       "      <td>0.000</td>\n",
       "      <td>0.000</td>\n",
       "      <td>3.756</td>\n",
       "      <td>61</td>\n",
       "      <td>278</td>\n",
       "      <td>1</td>\n",
       "    </tr>\n",
       "    <tr>\n",
       "      <th>1</th>\n",
       "      <td>0.21</td>\n",
       "      <td>0.28</td>\n",
       "      <td>0.50</td>\n",
       "      <td>0.0</td>\n",
       "      <td>0.14</td>\n",
       "      <td>0.28</td>\n",
       "      <td>0.21</td>\n",
       "      <td>0.07</td>\n",
       "      <td>0.00</td>\n",
       "      <td>0.94</td>\n",
       "      <td>...</td>\n",
       "      <td>0.00</td>\n",
       "      <td>0.132</td>\n",
       "      <td>0.0</td>\n",
       "      <td>0.372</td>\n",
       "      <td>0.180</td>\n",
       "      <td>0.048</td>\n",
       "      <td>5.114</td>\n",
       "      <td>101</td>\n",
       "      <td>1028</td>\n",
       "      <td>1</td>\n",
       "    </tr>\n",
       "    <tr>\n",
       "      <th>2</th>\n",
       "      <td>0.06</td>\n",
       "      <td>0.00</td>\n",
       "      <td>0.71</td>\n",
       "      <td>0.0</td>\n",
       "      <td>1.23</td>\n",
       "      <td>0.19</td>\n",
       "      <td>0.19</td>\n",
       "      <td>0.12</td>\n",
       "      <td>0.64</td>\n",
       "      <td>0.25</td>\n",
       "      <td>...</td>\n",
       "      <td>0.01</td>\n",
       "      <td>0.143</td>\n",
       "      <td>0.0</td>\n",
       "      <td>0.276</td>\n",
       "      <td>0.184</td>\n",
       "      <td>0.010</td>\n",
       "      <td>9.821</td>\n",
       "      <td>485</td>\n",
       "      <td>2259</td>\n",
       "      <td>1</td>\n",
       "    </tr>\n",
       "    <tr>\n",
       "      <th>3</th>\n",
       "      <td>0.00</td>\n",
       "      <td>0.00</td>\n",
       "      <td>0.00</td>\n",
       "      <td>0.0</td>\n",
       "      <td>0.63</td>\n",
       "      <td>0.00</td>\n",
       "      <td>0.31</td>\n",
       "      <td>0.63</td>\n",
       "      <td>0.31</td>\n",
       "      <td>0.63</td>\n",
       "      <td>...</td>\n",
       "      <td>0.00</td>\n",
       "      <td>0.137</td>\n",
       "      <td>0.0</td>\n",
       "      <td>0.137</td>\n",
       "      <td>0.000</td>\n",
       "      <td>0.000</td>\n",
       "      <td>3.537</td>\n",
       "      <td>40</td>\n",
       "      <td>191</td>\n",
       "      <td>1</td>\n",
       "    </tr>\n",
       "    <tr>\n",
       "      <th>4</th>\n",
       "      <td>0.00</td>\n",
       "      <td>0.00</td>\n",
       "      <td>0.00</td>\n",
       "      <td>0.0</td>\n",
       "      <td>0.63</td>\n",
       "      <td>0.00</td>\n",
       "      <td>0.31</td>\n",
       "      <td>0.63</td>\n",
       "      <td>0.31</td>\n",
       "      <td>0.63</td>\n",
       "      <td>...</td>\n",
       "      <td>0.00</td>\n",
       "      <td>0.135</td>\n",
       "      <td>0.0</td>\n",
       "      <td>0.135</td>\n",
       "      <td>0.000</td>\n",
       "      <td>0.000</td>\n",
       "      <td>3.537</td>\n",
       "      <td>40</td>\n",
       "      <td>191</td>\n",
       "      <td>1</td>\n",
       "    </tr>\n",
       "  </tbody>\n",
       "</table>\n",
       "<p>5 rows × 58 columns</p>\n",
       "</div>"
      ],
      "text/plain": [
       "     0     1     2    3     4     5     6     7     8     9  ...    48     49  \\\n",
       "0  0.00  0.64  0.64  0.0  0.32  0.00  0.00  0.00  0.00  0.00 ...  0.00  0.000   \n",
       "1  0.21  0.28  0.50  0.0  0.14  0.28  0.21  0.07  0.00  0.94 ...  0.00  0.132   \n",
       "2  0.06  0.00  0.71  0.0  1.23  0.19  0.19  0.12  0.64  0.25 ...  0.01  0.143   \n",
       "3  0.00  0.00  0.00  0.0  0.63  0.00  0.31  0.63  0.31  0.63 ...  0.00  0.137   \n",
       "4  0.00  0.00  0.00  0.0  0.63  0.00  0.31  0.63  0.31  0.63 ...  0.00  0.135   \n",
       "\n",
       "    50     51     52     53     54   55    56  57  \n",
       "0  0.0  0.778  0.000  0.000  3.756   61   278   1  \n",
       "1  0.0  0.372  0.180  0.048  5.114  101  1028   1  \n",
       "2  0.0  0.276  0.184  0.010  9.821  485  2259   1  \n",
       "3  0.0  0.137  0.000  0.000  3.537   40   191   1  \n",
       "4  0.0  0.135  0.000  0.000  3.537   40   191   1  \n",
       "\n",
       "[5 rows x 58 columns]"
      ]
     },
     "execution_count": 43,
     "metadata": {},
     "output_type": "execute_result"
    }
   ],
   "source": [
    "data = pd.read_csv('spambase/spambase.data', header=None)\n",
    "data.head()"
   ]
  },
  {
   "cell_type": "code",
   "execution_count": 44,
   "metadata": {},
   "outputs": [
    {
     "data": {
      "text/plain": [
       "numpy.ndarray"
      ]
     },
     "execution_count": 44,
     "metadata": {},
     "output_type": "execute_result"
    }
   ],
   "source": [
    "data = data.as_matrix()\n",
    "type(data)"
   ]
  },
  {
   "cell_type": "code",
   "execution_count": 46,
   "metadata": {
    "collapsed": true
   },
   "outputs": [],
   "source": [
    "X = data[:,:48]\n",
    "Y = data[:,-1]\n",
    "X_train, X_test, Y_train, Y_test = train_test_split(X, Y, train_size=0.7, test_size=0.3, shuffle=True)"
   ]
  },
  {
   "cell_type": "code",
   "execution_count": 47,
   "metadata": {},
   "outputs": [
    {
     "data": {
      "text/plain": [
       "(3220, 48)"
      ]
     },
     "execution_count": 47,
     "metadata": {},
     "output_type": "execute_result"
    }
   ],
   "source": [
    "X_train.shape"
   ]
  },
  {
   "cell_type": "code",
   "execution_count": 48,
   "metadata": {},
   "outputs": [
    {
     "data": {
      "text/plain": [
       "(1381, 48)"
      ]
     },
     "execution_count": 48,
     "metadata": {},
     "output_type": "execute_result"
    }
   ],
   "source": [
    "X_test.shape"
   ]
  },
  {
   "cell_type": "code",
   "execution_count": 49,
   "metadata": {},
   "outputs": [
    {
     "data": {
      "text/plain": [
       "(3220,)"
      ]
     },
     "execution_count": 49,
     "metadata": {},
     "output_type": "execute_result"
    }
   ],
   "source": [
    "Y_train.shape"
   ]
  },
  {
   "cell_type": "code",
   "execution_count": 50,
   "metadata": {},
   "outputs": [
    {
     "data": {
      "text/plain": [
       "(1381,)"
      ]
     },
     "execution_count": 50,
     "metadata": {},
     "output_type": "execute_result"
    }
   ],
   "source": [
    "Y_test.shape"
   ]
  },
  {
   "cell_type": "code",
   "execution_count": 51,
   "metadata": {},
   "outputs": [
    {
     "name": "stdout",
     "output_type": "stream",
     "text": [
      "Classification rate for MultinomialNB: 0.8725561187545257\n"
     ]
    }
   ],
   "source": [
    "model = MultinomialNB()\n",
    "model.fit(X_train, Y_train)\n",
    "print('Classification rate for MultinomialNB: {}'.format(model.score(X_test, Y_test)))"
   ]
  },
  {
   "cell_type": "code",
   "execution_count": 52,
   "metadata": {
    "collapsed": true
   },
   "outputs": [],
   "source": [
    "from sklearn.ensemble import AdaBoostClassifier"
   ]
  },
  {
   "cell_type": "code",
   "execution_count": 53,
   "metadata": {},
   "outputs": [
    {
     "name": "stdout",
     "output_type": "stream",
     "text": [
      "Classification rate for AdaBoost: 0.9261404779145547\n"
     ]
    }
   ],
   "source": [
    "model = AdaBoostClassifier()\n",
    "model.fit(X_train, Y_train)\n",
    "print('Classification rate for AdaBoost: {}'.format(model.score(X_test, Y_test)))"
   ]
  },
  {
   "cell_type": "markdown",
   "metadata": {},
   "source": [
    "## More on feature extraction (getting the features)"
   ]
  },
  {
   "cell_type": "markdown",
   "metadata": {},
   "source": [
    "Collectively called as **\"bag of words\"** we have following techiniques available for extracing features from words:\n",
    "\n",
    "1. word proportion (the one used in above example)\n",
    "2. raw word counts\n",
    "3. binary (1 if word appears, 0 otherwise)\n",
    "4. TF-IDF (takes into account the face that some words appear in many documents and hence don't really tell us much e.g. 'and', 'in', 'or' etc.))"
   ]
  },
  {
   "cell_type": "markdown",
   "metadata": {},
   "source": [
    "Useful link for TF-IDF [http://scikit-learn.org/stable/modules/feature_extraction.html]"
   ]
  },
  {
   "cell_type": "markdown",
   "metadata": {},
   "source": [
    "# Build a sentiment analyzer\n",
    "### (Note: The sentiment analyzer is implemented using the word proportion method)"
   ]
  },
  {
   "cell_type": "markdown",
   "metadata": {},
   "source": [
    "* sentiment = how positive or negative some text is\n",
    "* applications = amazon reviews, yelp reviews, hotel reviews, tweets"
   ]
  },
  {
   "cell_type": "markdown",
   "metadata": {},
   "source": [
    "Dataset: [https://www.cs.jhu.edu/~mdredze/datasets/sentiment/index2.html]"
   ]
  },
  {
   "cell_type": "markdown",
   "metadata": {},
   "source": [
    "### Outline of our sentiment analyzer\n",
    "\n",
    "* We'll just look at the **electronics category**, but you can try the same code on others\n",
    "* We could use 5 start targets to do regression, but let's just do classification since they are already marked 'positive' and 'negative'\n",
    "* **XML parser (BeautifulSoup)**\n",
    "* Only look at key **'review_text'**\n",
    "* We'll need 2 passes, one to determine vocabulary size and which index corresponds to which word, and one to create data vectors\n",
    "* After that, we can just use any **SKLearn classifier** as we did previously\n",
    "* But we'll **use logistic regression so we can interpret the weights**"
   ]
  },
  {
   "cell_type": "markdown",
   "metadata": {},
   "source": [
    "====================================================================\n",
    "* Essential imports"
   ]
  },
  {
   "cell_type": "code",
   "execution_count": 65,
   "metadata": {
    "collapsed": true
   },
   "outputs": [],
   "source": [
    "import nltk\n",
    "import numpy as np\n",
    "from nltk.stem import WordNetLemmatizer\n",
    "from sklearn.linear_model import LogisticRegression\n",
    "from bs4 import BeautifulSoup\n",
    "from nltk.corpus import stopwords as nltk_stopwords\n",
    "from sklearn.model_selection import train_test_split\n",
    "import pandas as pd"
   ]
  },
  {
   "cell_type": "markdown",
   "metadata": {},
   "source": [
    "* Initilizing WordNetLemmatizer\n",
    "* Initializing stopwords"
   ]
  },
  {
   "cell_type": "code",
   "execution_count": 66,
   "metadata": {},
   "outputs": [
    {
     "data": {
      "text/plain": [
       "{'a',\n",
       " 'about',\n",
       " 'above',\n",
       " 'after',\n",
       " 'again',\n",
       " 'against',\n",
       " 'ain',\n",
       " 'all',\n",
       " 'am',\n",
       " 'an',\n",
       " 'and',\n",
       " 'any',\n",
       " 'are',\n",
       " 'aren',\n",
       " 'as',\n",
       " 'at',\n",
       " 'be',\n",
       " 'because',\n",
       " 'been',\n",
       " 'before',\n",
       " 'being',\n",
       " 'below',\n",
       " 'between',\n",
       " 'both',\n",
       " 'but',\n",
       " 'by',\n",
       " 'can',\n",
       " 'couldn',\n",
       " 'd',\n",
       " 'did',\n",
       " 'didn',\n",
       " 'do',\n",
       " 'does',\n",
       " 'doesn',\n",
       " 'doing',\n",
       " 'don',\n",
       " 'down',\n",
       " 'during',\n",
       " 'each',\n",
       " 'few',\n",
       " 'for',\n",
       " 'from',\n",
       " 'further',\n",
       " 'had',\n",
       " 'hadn',\n",
       " 'has',\n",
       " 'hasn',\n",
       " 'have',\n",
       " 'haven',\n",
       " 'having',\n",
       " 'he',\n",
       " 'her',\n",
       " 'here',\n",
       " 'hers',\n",
       " 'herself',\n",
       " 'him',\n",
       " 'himself',\n",
       " 'his',\n",
       " 'how',\n",
       " 'i',\n",
       " 'if',\n",
       " 'in',\n",
       " 'into',\n",
       " 'is',\n",
       " 'isn',\n",
       " 'it',\n",
       " 'its',\n",
       " 'itself',\n",
       " 'just',\n",
       " 'll',\n",
       " 'm',\n",
       " 'ma',\n",
       " 'me',\n",
       " 'mightn',\n",
       " 'more',\n",
       " 'most',\n",
       " 'mustn',\n",
       " 'my',\n",
       " 'myself',\n",
       " 'needn',\n",
       " 'no',\n",
       " 'nor',\n",
       " 'not',\n",
       " 'now',\n",
       " 'o',\n",
       " 'of',\n",
       " 'off',\n",
       " 'on',\n",
       " 'once',\n",
       " 'only',\n",
       " 'or',\n",
       " 'other',\n",
       " 'our',\n",
       " 'ours',\n",
       " 'ourselves',\n",
       " 'out',\n",
       " 'over',\n",
       " 'own',\n",
       " 're',\n",
       " 's',\n",
       " 'same',\n",
       " 'shan',\n",
       " 'she',\n",
       " 'should',\n",
       " 'shouldn',\n",
       " 'so',\n",
       " 'some',\n",
       " 'such',\n",
       " 't',\n",
       " 'than',\n",
       " 'that',\n",
       " 'the',\n",
       " 'their',\n",
       " 'theirs',\n",
       " 'them',\n",
       " 'themselves',\n",
       " 'then',\n",
       " 'there',\n",
       " 'these',\n",
       " 'they',\n",
       " 'this',\n",
       " 'those',\n",
       " 'through',\n",
       " 'to',\n",
       " 'too',\n",
       " 'under',\n",
       " 'until',\n",
       " 'up',\n",
       " 've',\n",
       " 'very',\n",
       " 'was',\n",
       " 'wasn',\n",
       " 'we',\n",
       " 'were',\n",
       " 'weren',\n",
       " 'what',\n",
       " 'when',\n",
       " 'where',\n",
       " 'which',\n",
       " 'while',\n",
       " 'who',\n",
       " 'whom',\n",
       " 'why',\n",
       " 'will',\n",
       " 'with',\n",
       " 'won',\n",
       " 'wouldn',\n",
       " 'y',\n",
       " 'you',\n",
       " 'your',\n",
       " 'yours',\n",
       " 'yourself',\n",
       " 'yourselves'}"
      ]
     },
     "execution_count": 66,
     "metadata": {},
     "output_type": "execute_result"
    }
   ],
   "source": [
    "# Converts words to their base form\n",
    "# More on lemmatizer\n",
    "# http://textminingonline.com/dive-into-nltk-part-iv-stemming-and-lemmatization \n",
    "\n",
    "word_net_lemmatizer = WordNetLemmatizer()\n",
    "\n",
    "# reading 'given' stopwords, words that give neutral sentiment\n",
    "# rstrip - removes the characters to the right based on given parameter\n",
    "#stopwords = set(word.rstrip() for word in open('stopwords.txt'))\n",
    "\n",
    "# we will use nltk provided stopwords\n",
    "stopwords = set(nltk_stopwords.words('english'))\n",
    "stopwords"
   ]
  },
  {
   "cell_type": "markdown",
   "metadata": {},
   "source": [
    "* Loading reviews dataset"
   ]
  },
  {
   "cell_type": "code",
   "execution_count": 67,
   "metadata": {},
   "outputs": [
    {
     "data": {
      "text/plain": [
       "bs4.element.ResultSet"
      ]
     },
     "execution_count": 67,
     "metadata": {},
     "output_type": "execute_result"
    }
   ],
   "source": [
    "# More on BeautifulSoup\n",
    "# https://www.crummy.com/software/BeautifulSoup/bs4/doc/\n",
    "# reading XML files using BeautifulSoup (using the lxml parser)\n",
    "positive_reviews = BeautifulSoup(open('electronics/positive.review').read(), 'lxml')\n",
    "positive_reviews = positive_reviews.findAll('review_text')\n",
    "\n",
    "negative_reviews = BeautifulSoup(open('electronics/negative.review').read(), 'lxml')\n",
    "negative_reviews = negative_reviews.findAll('review_text')\n",
    "\n",
    "type(positive_reviews)"
   ]
  },
  {
   "cell_type": "markdown",
   "metadata": {},
   "source": [
    "* Shuffling dataset"
   ]
  },
  {
   "cell_type": "code",
   "execution_count": 68,
   "metadata": {
    "collapsed": true
   },
   "outputs": [],
   "source": [
    "# shuffling data\n",
    "np.random.shuffle(positive_reviews)\n",
    "np.random.shuffle(negative_reviews)"
   ]
  },
  {
   "cell_type": "markdown",
   "metadata": {},
   "source": [
    "* Checking dataset lengths, equalizing datasets in case of inequal lenghts"
   ]
  },
  {
   "cell_type": "code",
   "execution_count": 69,
   "metadata": {},
   "outputs": [
    {
     "data": {
      "text/plain": [
       "1000"
      ]
     },
     "execution_count": 69,
     "metadata": {},
     "output_type": "execute_result"
    }
   ],
   "source": [
    "# equalizing labels\n",
    "# positive_reviews = positive_reviews[:len(negative_reviews)]\n",
    "len(positive_reviews)"
   ]
  },
  {
   "cell_type": "code",
   "execution_count": 70,
   "metadata": {},
   "outputs": [
    {
     "data": {
      "text/plain": [
       "1000"
      ]
     },
     "execution_count": 70,
     "metadata": {},
     "output_type": "execute_result"
    }
   ],
   "source": [
    "len(negative_reviews)"
   ]
  },
  {
   "cell_type": "markdown",
   "metadata": {},
   "source": [
    "* Initializing variables"
   ]
  },
  {
   "cell_type": "code",
   "execution_count": 71,
   "metadata": {
    "collapsed": true
   },
   "outputs": [],
   "source": [
    "# creating the main vocabulary dictionary\n",
    "vocabulary = {}\n",
    "vocabulary_index = 0\n",
    "\n",
    "positive_tokenized = []\n",
    "negative_tokenized = []"
   ]
  },
  {
   "cell_type": "markdown",
   "metadata": {},
   "source": [
    "* Define custom tokenizer that does the following:\n",
    "    - Lowers all string\n",
    "    - Tokenize string using nltk.tokenize\n",
    "    - Remove any tokens(words) of length <= 2\n",
    "    - Lemmatize tokens(words)\n",
    "    - Filter tokens(words) with stopwords"
   ]
  },
  {
   "cell_type": "code",
   "execution_count": 72,
   "metadata": {
    "collapsed": true
   },
   "outputs": [],
   "source": [
    "# defining custom tokenizing function\n",
    "def custom_tokenizer(s):\n",
    "    # lowering all text\n",
    "    s = s.lower()\n",
    "    \n",
    "    # this is equivalent to list.split() but let's keep faith in word_tokenize()\n",
    "    tokens = nltk.tokenize.word_tokenize(s)\n",
    "    \n",
    "    # remove the words with length <= 2\n",
    "    tokens = [token for token in tokens if len(token) > 2]\n",
    "    \n",
    "    # lemmatize the tokens\n",
    "    tokens = list(map(lambda token: word_net_lemmatizer.lemmatize(token), tokens))\n",
    "    \n",
    "    # remove the stopwords from the tokens\n",
    "    tokens = [token for token in tokens if token not in stopwords]\n",
    "    \n",
    "    return tokens"
   ]
  },
  {
   "cell_type": "code",
   "execution_count": 73,
   "metadata": {
    "collapsed": true
   },
   "outputs": [],
   "source": [
    "# nltk.download()\n",
    "# tokens = nltk.tokenize.word_tokenize('This is to certify that Milind Dalvi successfully completed 13 hours of Complete Python Bootcamp: Go from zero to hero in Python online course on Aug. 28, 2017')\n",
    "# # remove the words with length <= 2\n",
    "# tokens = [token for token in tokens if len(token) > 2]\n",
    "# tokens"
   ]
  },
  {
   "cell_type": "code",
   "execution_count": 74,
   "metadata": {
    "collapsed": true
   },
   "outputs": [],
   "source": [
    "# #lemmatize the tokens\n",
    "# tokens = list(map(lambda token: word_net_lemmatizer.lemmatize(token), tokens))\n",
    "# tokens"
   ]
  },
  {
   "cell_type": "markdown",
   "metadata": {},
   "source": [
    "* Cycle positive and negative reviews and do the following:\n",
    "    - Tokenize reviews (using custom tokenizer)\n",
    "    - Append tokens to respective list (positive or negative) (this list will house all tokens lists)\n",
    "    - Index token into mail **'vocabulary'** with unique **'vocabulary_index'**"
   ]
  },
  {
   "cell_type": "code",
   "execution_count": 75,
   "metadata": {},
   "outputs": [
    {
     "name": "stdout",
     "output_type": "stream",
     "text": [
      "['second', 'g15', 'keyboard', \"'ve\", 'purchased', 'first', 'one', 'broke', 'great', 'keyboard', 'keep', 'one', 'home', 'take', 'one', 'lanning', 'issue', 'keyboard', 'lcd', 'pretty', 'useless', 'fast', 'paced', 'fps', 'game', 'otherwise', 'good', 'keeping', 'clock', 'one', 'doe', \"n't\", 'lose', 'track', 'time']\n",
      "[\"'ve\", 'mp3', 'player', 'since', 'came', 'anyone', 'still', 'considering', 'getting', 'must', 'advise', 'otherwise', 'mp3', 'player', 'look', 'feel', 'great', 'navigational', 'feature', 'easy', 'use', 'problem', 'player', 'extremely', 'unreliable', 'used', 'version', 'player', 'expecting', 'time', 'player', 'wa', 'simply', 'faulty', 'glitch', 'terribly', 'constantly', 'take', 'battery', 'reset', 'player', 'freeze', 'normal', 'play', 'also', 'freeze', 'half', 'time', 'try', 'sync', 'wmp', 'addition', 'sometimes', 'simply', 'refuse', 'take', 'deleted', 'song', 'h10', 'list', 'track', 'even', 'though', 'longer', 'exist', 'player', 'finally', 'iriver', 'ha', 'terrible', 'customer', 'service', 'even', 'back', 'product', 'owner', 'two', 'irivers', 'h10', '120', 'seen', 'function', 'offer', 'update', 'faulty', 'firmware', 'month', 'leave', 'product', 'produce', 'new', 'one', 'seems', 'like', 'new', 'mp3', 'player', 'introduced', 'every', 'month', 'customer', 'service', 'extremely', 'hard', 'get', 'hold', 'simply', 'say', 'need', 'send', 'factory', 'occasionally', 'get', 'rep', 'actually', 'send', 'brand', 'new', 'one', 'free', 'though', 'smart', 'stick', 'creative', 'new', 'toshiba', 'gigabeat', 'clench', 'fist', 'ipod']\n"
     ]
    }
   ],
   "source": [
    "for review in positive_reviews:\n",
    "    tokens = custom_tokenizer(review.text)\n",
    "    positive_tokenized.append(tokens)\n",
    "    for token in tokens:\n",
    "        if token not in vocabulary:\n",
    "            vocabulary[token] = vocabulary_index\n",
    "            vocabulary_index += 1\n",
    "            \n",
    "for review in negative_reviews:\n",
    "    tokens = custom_tokenizer(review.text)\n",
    "    negative_tokenized.append(tokens)\n",
    "    for token in tokens:\n",
    "        if token not in vocabulary:\n",
    "            vocabulary[token] = vocabulary_index\n",
    "            vocabulary_index += 1\n",
    "\n",
    "print(positive_tokenized[0])\n",
    "print(negative_tokenized[0])"
   ]
  },
  {
   "cell_type": "markdown",
   "metadata": {},
   "source": [
    "* Set **N - Number of records'** equals to len(pos) + len(neg) token lists\n",
    "* Create **data** matrix for all data equals to **N** records and **+1 column-wise** for labels"
   ]
  },
  {
   "cell_type": "code",
   "execution_count": 76,
   "metadata": {
    "collapsed": true
   },
   "outputs": [],
   "source": [
    "# Number of records N\n",
    "N = len(positive_tokenized) + len(negative_tokenized)\n",
    "data = np.zeros((N, len(vocabulary) + 1))"
   ]
  },
  {
   "cell_type": "markdown",
   "metadata": {},
   "source": [
    "* Define custom tokens_to_vector function as below:\n",
    "    - Create a zeros vector of lenght (vocabulary + 1) (+1 for target labels)\n",
    "    - Increment those value indexes based on vocabulary found in provided token list.\n",
    "    - Label the target label\n",
    "    - Return feature"
   ]
  },
  {
   "cell_type": "code",
   "execution_count": 77,
   "metadata": {
    "collapsed": true
   },
   "outputs": [],
   "source": [
    "# defining token to vector function\n",
    "def tokens_to_vector(tokens_list, label):\n",
    "    # this is the feature vector with target label\n",
    "    feature = np.zeros(len(vocabulary) + 1)\n",
    "    for token in tokens_list:\n",
    "        feature[vocabulary[token]] += 1\n",
    "    feature = (feature * 100.0) / feature.sum()\n",
    "    feature[-1] = label\n",
    "    return feature"
   ]
  },
  {
   "cell_type": "markdown",
   "metadata": {},
   "source": [
    "* Convert tokens to vectors and make data\n",
    "* Preview to be saved as CSV using Pandas DataFrame"
   ]
  },
  {
   "cell_type": "code",
   "execution_count": 78,
   "metadata": {},
   "outputs": [
    {
     "data": {
      "text/html": [
       "<div>\n",
       "<style>\n",
       "    .dataframe thead tr:only-child th {\n",
       "        text-align: right;\n",
       "    }\n",
       "\n",
       "    .dataframe thead th {\n",
       "        text-align: left;\n",
       "    }\n",
       "\n",
       "    .dataframe tbody tr th {\n",
       "        vertical-align: top;\n",
       "    }\n",
       "</style>\n",
       "<table border=\"1\" class=\"dataframe\">\n",
       "  <thead>\n",
       "    <tr style=\"text-align: right;\">\n",
       "      <th></th>\n",
       "      <th>input_0</th>\n",
       "      <th>input_1</th>\n",
       "      <th>input_2</th>\n",
       "      <th>input_3</th>\n",
       "      <th>input_4</th>\n",
       "      <th>input_5</th>\n",
       "      <th>input_6</th>\n",
       "      <th>input_7</th>\n",
       "      <th>input_8</th>\n",
       "      <th>input_9</th>\n",
       "      <th>...</th>\n",
       "      <th>input_11284</th>\n",
       "      <th>input_11285</th>\n",
       "      <th>input_11286</th>\n",
       "      <th>input_11287</th>\n",
       "      <th>input_11288</th>\n",
       "      <th>input_11289</th>\n",
       "      <th>input_11290</th>\n",
       "      <th>input_11291</th>\n",
       "      <th>input_11292</th>\n",
       "      <th>output</th>\n",
       "    </tr>\n",
       "  </thead>\n",
       "  <tbody>\n",
       "    <tr>\n",
       "      <th>0</th>\n",
       "      <td>2.857143</td>\n",
       "      <td>2.857143</td>\n",
       "      <td>8.571429</td>\n",
       "      <td>2.857143</td>\n",
       "      <td>2.857143</td>\n",
       "      <td>2.857143</td>\n",
       "      <td>11.428571</td>\n",
       "      <td>2.857143</td>\n",
       "      <td>2.857143</td>\n",
       "      <td>2.857143</td>\n",
       "      <td>...</td>\n",
       "      <td>0.0</td>\n",
       "      <td>0.0</td>\n",
       "      <td>0.0</td>\n",
       "      <td>0.0</td>\n",
       "      <td>0.0</td>\n",
       "      <td>0.0</td>\n",
       "      <td>0.0</td>\n",
       "      <td>0.0</td>\n",
       "      <td>0.0</td>\n",
       "      <td>1.0</td>\n",
       "    </tr>\n",
       "    <tr>\n",
       "      <th>1</th>\n",
       "      <td>0.000000</td>\n",
       "      <td>0.000000</td>\n",
       "      <td>0.000000</td>\n",
       "      <td>0.000000</td>\n",
       "      <td>0.000000</td>\n",
       "      <td>0.000000</td>\n",
       "      <td>0.000000</td>\n",
       "      <td>0.000000</td>\n",
       "      <td>0.990099</td>\n",
       "      <td>0.000000</td>\n",
       "      <td>...</td>\n",
       "      <td>0.0</td>\n",
       "      <td>0.0</td>\n",
       "      <td>0.0</td>\n",
       "      <td>0.0</td>\n",
       "      <td>0.0</td>\n",
       "      <td>0.0</td>\n",
       "      <td>0.0</td>\n",
       "      <td>0.0</td>\n",
       "      <td>0.0</td>\n",
       "      <td>1.0</td>\n",
       "    </tr>\n",
       "    <tr>\n",
       "      <th>2</th>\n",
       "      <td>0.000000</td>\n",
       "      <td>0.000000</td>\n",
       "      <td>0.000000</td>\n",
       "      <td>0.000000</td>\n",
       "      <td>0.000000</td>\n",
       "      <td>0.000000</td>\n",
       "      <td>0.000000</td>\n",
       "      <td>0.000000</td>\n",
       "      <td>0.000000</td>\n",
       "      <td>0.000000</td>\n",
       "      <td>...</td>\n",
       "      <td>0.0</td>\n",
       "      <td>0.0</td>\n",
       "      <td>0.0</td>\n",
       "      <td>0.0</td>\n",
       "      <td>0.0</td>\n",
       "      <td>0.0</td>\n",
       "      <td>0.0</td>\n",
       "      <td>0.0</td>\n",
       "      <td>0.0</td>\n",
       "      <td>1.0</td>\n",
       "    </tr>\n",
       "    <tr>\n",
       "      <th>3</th>\n",
       "      <td>0.000000</td>\n",
       "      <td>0.000000</td>\n",
       "      <td>0.000000</td>\n",
       "      <td>2.325581</td>\n",
       "      <td>0.000000</td>\n",
       "      <td>0.000000</td>\n",
       "      <td>2.325581</td>\n",
       "      <td>0.000000</td>\n",
       "      <td>2.325581</td>\n",
       "      <td>0.000000</td>\n",
       "      <td>...</td>\n",
       "      <td>0.0</td>\n",
       "      <td>0.0</td>\n",
       "      <td>0.0</td>\n",
       "      <td>0.0</td>\n",
       "      <td>0.0</td>\n",
       "      <td>0.0</td>\n",
       "      <td>0.0</td>\n",
       "      <td>0.0</td>\n",
       "      <td>0.0</td>\n",
       "      <td>1.0</td>\n",
       "    </tr>\n",
       "    <tr>\n",
       "      <th>4</th>\n",
       "      <td>1.169591</td>\n",
       "      <td>0.000000</td>\n",
       "      <td>0.000000</td>\n",
       "      <td>1.169591</td>\n",
       "      <td>0.000000</td>\n",
       "      <td>0.000000</td>\n",
       "      <td>0.584795</td>\n",
       "      <td>0.000000</td>\n",
       "      <td>0.000000</td>\n",
       "      <td>0.584795</td>\n",
       "      <td>...</td>\n",
       "      <td>0.0</td>\n",
       "      <td>0.0</td>\n",
       "      <td>0.0</td>\n",
       "      <td>0.0</td>\n",
       "      <td>0.0</td>\n",
       "      <td>0.0</td>\n",
       "      <td>0.0</td>\n",
       "      <td>0.0</td>\n",
       "      <td>0.0</td>\n",
       "      <td>1.0</td>\n",
       "    </tr>\n",
       "  </tbody>\n",
       "</table>\n",
       "<p>5 rows × 11294 columns</p>\n",
       "</div>"
      ],
      "text/plain": [
       "    input_0   input_1   input_2   input_3   input_4   input_5    input_6  \\\n",
       "0  2.857143  2.857143  8.571429  2.857143  2.857143  2.857143  11.428571   \n",
       "1  0.000000  0.000000  0.000000  0.000000  0.000000  0.000000   0.000000   \n",
       "2  0.000000  0.000000  0.000000  0.000000  0.000000  0.000000   0.000000   \n",
       "3  0.000000  0.000000  0.000000  2.325581  0.000000  0.000000   2.325581   \n",
       "4  1.169591  0.000000  0.000000  1.169591  0.000000  0.000000   0.584795   \n",
       "\n",
       "    input_7   input_8   input_9   ...    input_11284  input_11285  \\\n",
       "0  2.857143  2.857143  2.857143   ...            0.0          0.0   \n",
       "1  0.000000  0.990099  0.000000   ...            0.0          0.0   \n",
       "2  0.000000  0.000000  0.000000   ...            0.0          0.0   \n",
       "3  0.000000  2.325581  0.000000   ...            0.0          0.0   \n",
       "4  0.000000  0.000000  0.584795   ...            0.0          0.0   \n",
       "\n",
       "   input_11286  input_11287  input_11288  input_11289  input_11290  \\\n",
       "0          0.0          0.0          0.0          0.0          0.0   \n",
       "1          0.0          0.0          0.0          0.0          0.0   \n",
       "2          0.0          0.0          0.0          0.0          0.0   \n",
       "3          0.0          0.0          0.0          0.0          0.0   \n",
       "4          0.0          0.0          0.0          0.0          0.0   \n",
       "\n",
       "   input_11291  input_11292  output  \n",
       "0          0.0          0.0     1.0  \n",
       "1          0.0          0.0     1.0  \n",
       "2          0.0          0.0     1.0  \n",
       "3          0.0          0.0     1.0  \n",
       "4          0.0          0.0     1.0  \n",
       "\n",
       "[5 rows x 11294 columns]"
      ]
     },
     "execution_count": 78,
     "metadata": {},
     "output_type": "execute_result"
    }
   ],
   "source": [
    "i = 0\n",
    "for tokens_list in positive_tokenized:\n",
    "    XY = tokens_to_vector(tokens_list, 1)\n",
    "    data[i, :] = XY\n",
    "    i += 1\n",
    "    \n",
    "for tokens_list in negative_tokenized:\n",
    "    XY = tokens_to_vector(tokens_list, 0)\n",
    "    data[i, :] = XY\n",
    "    i += 1\n",
    "    \n",
    "df = pd.DataFrame(data=data, columns=['input_' + str(i) for i in range(len(vocabulary))] + ['output'])\n",
    "df.head()"
   ]
  },
  {
   "cell_type": "code",
   "execution_count": 79,
   "metadata": {
    "collapsed": true
   },
   "outputs": [],
   "source": [
    "X = data[:, :-1]\n",
    "Y = data[:,-1]\n",
    "X_train, X_test, Y_train, Y_test = train_test_split(X, Y, train_size=0.7, test_size=0.3, shuffle=True)"
   ]
  },
  {
   "cell_type": "code",
   "execution_count": 80,
   "metadata": {},
   "outputs": [
    {
     "name": "stdout",
     "output_type": "stream",
     "text": [
      "Classification rate: 0.7933333333333333\n"
     ]
    }
   ],
   "source": [
    "model = LogisticRegression()\n",
    "model.fit(X_train, Y_train)\n",
    "print('Classification rate: {}'.format(model.score(X_test, Y_test)))"
   ]
  },
  {
   "cell_type": "code",
   "execution_count": 81,
   "metadata": {},
   "outputs": [
    {
     "name": "stdout",
     "output_type": "stream",
     "text": [
      "great 0.562401041197\n",
      "back -0.682942936312\n",
      "bit 0.522290229473\n",
      "excellent 0.76683777378\n",
      "highly 0.684311342379\n",
      "best 0.616289500405\n",
      "movie 0.563574460608\n",
      "love 0.671274285483\n",
      "nano 0.517353692167\n",
      "deal -0.601048610939\n",
      "tried -0.59241464448\n",
      "allows 0.510326526292\n",
      "output 0.68343831325\n",
      "poor -0.730767022108\n",
      "flaw -0.521784990053\n",
      "returned -0.53275504713\n",
      "seemed -0.516735757038\n",
      "awesome 0.537543898842\n",
      "try -0.615384390137\n",
      "hope -0.558355045659\n",
      "perfect 0.608982158396\n",
      "return -0.718856182349\n",
      "unfortunately -0.677654923881\n",
      "waste -0.666326517673\n",
      "worst -0.500021492849\n",
      "terrible -0.681782309297\n"
     ]
    }
   ],
   "source": [
    "# let's look at the weights for each word\n",
    "# try it with different threshold values!\n",
    "threshold = 0.5\n",
    "for word, index in vocabulary.items():\n",
    "    weight = model.coef_[0][index]\n",
    "    if weight > threshold or weight < -threshold:\n",
    "        print(word, weight)"
   ]
  },
  {
   "cell_type": "markdown",
   "metadata": {},
   "source": [
    "-----------------------------------------------------------------"
   ]
  },
  {
   "cell_type": "markdown",
   "metadata": {},
   "source": [
    "# NLTK Exploration"
   ]
  },
  {
   "cell_type": "markdown",
   "metadata": {
    "collapsed": true
   },
   "source": [
    "## POS tagging (Parts of speech) \n",
    "**(noun, verb, adjective etc.)**"
   ]
  },
  {
   "cell_type": "code",
   "execution_count": 1,
   "metadata": {
    "collapsed": true
   },
   "outputs": [],
   "source": [
    "import nltk"
   ]
  },
  {
   "cell_type": "code",
   "execution_count": 16,
   "metadata": {},
   "outputs": [],
   "source": [
    "# nltk.download()"
   ]
  },
  {
   "cell_type": "code",
   "execution_count": 8,
   "metadata": {},
   "outputs": [
    {
     "data": {
      "text/plain": [
       "[('Machine', 'NN'), ('learning', 'NN'), ('is', 'VBZ'), ('great!', 'JJ')]"
      ]
     },
     "execution_count": 8,
     "metadata": {},
     "output_type": "execute_result"
    }
   ],
   "source": [
    "sentence = 'Machine learning is great!'\n",
    "nltk.pos_tag(sentence.split())"
   ]
  },
  {
   "cell_type": "markdown",
   "metadata": {},
   "source": [
    "Complete list of POS reference [https://www.ling.upenn.edu/courses/Fall_2003/ling001/penn_treebank_pos.html]"
   ]
  },
  {
   "cell_type": "markdown",
   "metadata": {},
   "source": [
    "## Stemming and lemmatization"
   ]
  },
  {
   "cell_type": "markdown",
   "metadata": {},
   "source": [
    "* both reduce words to **'base'** form\n",
    "* useful because vocabulary can get too large easily\n",
    "    - but 'dog'/'dogs', or 'jump'/'jumping' probably have the same meaning\n",
    "* what's the difference?\n",
    "    - stemming is more 'crude', sometimes it just chops off the words to give you the base form - you'll see"
   ]
  },
  {
   "cell_type": "code",
   "execution_count": 9,
   "metadata": {
    "collapsed": true
   },
   "outputs": [],
   "source": [
    "from nltk.stem.porter import PorterStemmer"
   ]
  },
  {
   "cell_type": "code",
   "execution_count": 10,
   "metadata": {},
   "outputs": [
    {
     "data": {
      "text/plain": [
       "'wolv'"
      ]
     },
     "execution_count": 10,
     "metadata": {},
     "output_type": "execute_result"
    }
   ],
   "source": [
    "porter_stemmer = PorterStemmer()\n",
    "porter_stemmer.stem('wolves')"
   ]
  },
  {
   "cell_type": "code",
   "execution_count": 11,
   "metadata": {
    "collapsed": true
   },
   "outputs": [],
   "source": [
    "from nltk.stem import WordNetLemmatizer"
   ]
  },
  {
   "cell_type": "code",
   "execution_count": 12,
   "metadata": {},
   "outputs": [
    {
     "data": {
      "text/plain": [
       "'wolf'"
      ]
     },
     "execution_count": 12,
     "metadata": {},
     "output_type": "execute_result"
    }
   ],
   "source": [
    "lemmatizer = WordNetLemmatizer()\n",
    "lemmatizer.lemmatize('wolves')"
   ]
  },
  {
   "cell_type": "markdown",
   "metadata": {},
   "source": [
    "## NER (Named entity recognition)"
   ]
  },
  {
   "cell_type": "markdown",
   "metadata": {},
   "source": [
    "* What 'are' the entities?\n",
    "* 'Albert Einstein' = Person\n",
    "* 'Apple' = Organization"
   ]
  },
  {
   "cell_type": "code",
   "execution_count": 19,
   "metadata": {},
   "outputs": [
    {
     "data": {
      "text/plain": [
       "[('Albert', 'NNP'),\n",
       " ('Einstein', 'NNP'),\n",
       " ('was', 'VBD'),\n",
       " ('born', 'VBN'),\n",
       " ('on', 'IN'),\n",
       " ('March', 'NNP'),\n",
       " ('14,', 'CD'),\n",
       " ('1879', 'CD')]"
      ]
     },
     "execution_count": 19,
     "metadata": {},
     "output_type": "execute_result"
    }
   ],
   "source": [
    "sentence = 'Albert Einstein was born on March 14, 1879'\n",
    "tags = nltk.pos_tag(sentence.split())\n",
    "tags"
   ]
  },
  {
   "cell_type": "markdown",
   "metadata": {},
   "source": [
    "#### This requires ghostscript installation \n",
    "[https://www.ghostscript.com/download/gsdnld.html]"
   ]
  },
  {
   "cell_type": "code",
   "execution_count": 25,
   "metadata": {},
   "outputs": [],
   "source": [
    "# Creating a parse tree\n",
    "nltk.ne_chunk(tags);"
   ]
  },
  {
   "cell_type": "code",
   "execution_count": 27,
   "metadata": {},
   "outputs": [],
   "source": [
    "nltk.ne_chunk(tags).draw();"
   ]
  },
  {
   "cell_type": "code",
   "execution_count": 28,
   "metadata": {
    "collapsed": true
   },
   "outputs": [],
   "source": [
    "sentence = 'Steve Jobs was the CEO of Apple Corp.'\n",
    "tags = nltk.pos_tag(sentence.split())\n",
    "nltk.ne_chunk(tags).draw();"
   ]
  },
  {
   "cell_type": "markdown",
   "metadata": {},
   "source": [
    "-----------------------------------------------------------------"
   ]
  },
  {
   "cell_type": "markdown",
   "metadata": {},
   "source": [
    "# Latent Semantic Analysis"
   ]
  },
  {
   "cell_type": "markdown",
   "metadata": {},
   "source": [
    "* multiple words with the same meaning (synonymy)\n",
    "* one word with multiple meanings (polysemy)\n",
    "\n",
    "**Synonyms:**\n",
    "    - 'buy' and 'purchase'\n",
    "    - 'big' and 'large'\n",
    "    - 'quick' and 'speedy'\n",
    "    \n",
    "**Polysemes:**\n",
    "    - 'Man', 'Hey, man'\n",
    "    - 'Milk', 'I'm going to milk (verb) it for all it's worth', 'Cat is producing milk (noun) for its babies'"
   ]
  },
  {
   "cell_type": "markdown",
   "metadata": {},
   "source": [
    "Latent semantic analysis reduces dimensionality by creating latent variables or hidden variables that represent corrrelated words.\n",
    "\n",
    "**Example:\n",
    "latent variable (Z) = 0.7 * computer + 0.5 * PC + 0.6 * laptop**"
   ]
  },
  {
   "cell_type": "markdown",
   "metadata": {},
   "source": [
    "# Latent Semantic Analysis continued 1..."
   ]
  },
  {
   "cell_type": "markdown",
   "metadata": {},
   "source": [
    "## PCA and SVD (the underlying math behind LSA)"
   ]
  },
  {
   "cell_type": "markdown",
   "metadata": {},
   "source": [
    "* Relation to LSA\n",
    "    - LSA is really just 'SVD (Singular value decomposition) on the term-document matrix'\n",
    "    - But before we learn more about SVD we need to learn about PCA (Principal component analysis)"
   ]
  },
  {
   "cell_type": "markdown",
   "metadata": {},
   "source": [
    "## PCA (Principal Component Analysis)\n",
    "[https://lazyprogrammer.me/tutorial-principal-components-analysis-pca/]"
   ]
  },
  {
   "cell_type": "markdown",
   "metadata": {},
   "source": [
    "* z = Qx\n",
    "* Q is a matrix\n",
    "* scalar * vector = another vector, same direction \n",
    "* matrix * vector = another vector, possibly different direction\n",
    "\n",
    "So what PCA does is it rotates our original input vectors, or another way of thinking of it is that it's the same vectors but in different co-ordinate system."
   ]
  },
  {
   "cell_type": "markdown",
   "metadata": {},
   "source": [
    "### PCA does 4 things for us:\n",
    "\n",
    "**1. Decorrelates input data**\n",
    "    - Thus there is zero correlation between any two input features\n",
    "    \n",
    "**2. Transformed data is ordered by information content**\n",
    "    - Thus, the first dimension carries the most information, the second dimension carries less information than first and so on...\n",
    "    \n",
    "**3. Dimensionality reduction**\n",
    "    - It allows us to reduce the dimensionality of our data. So if our original vocabulary was 1000 words, we might find that when we join all the words by how often they co-occur in each document, maybe the total number of distinct latent terms is only 100.\n",
    "    - Note that removing information (removing dimensions) does not always decrease predictive ability.\n",
    "    \n",
    "**4. Denoising/ Smoothing/ Improving generalization**\n",
    "    - In NLP if vocubulary size is large, noise is quite prevalant."
   ]
  },
  {
   "cell_type": "markdown",
   "metadata": {},
   "source": [
    "<img src=\"covariance.png\">"
   ]
  },
  {
   "cell_type": "markdown",
   "metadata": {},
   "source": [
    "The central idea is the covariance matrix. The diagonals of the covariance matrix tell us the variance of that direction and the off-diagonals tells us how correlated two different dimensions are with each other.\n",
    "\n",
    "Recall that for most classical statistical methods, we consider more variance to be synonymous with more information."
   ]
  },
  {
   "cell_type": "markdown",
   "metadata": {},
   "source": [
    "### Eigenvalues and Eigenvectors"
   ]
  },
  {
   "cell_type": "markdown",
   "metadata": {},
   "source": [
    "* A = diagonal matrix of eigenvalues (there are D of them ---} D x D matrix)\n",
    "* Q = matrix of stacked eigenvectors  (there are D of them ---} D x D matrix)\n",
    "* we sort A so the eigenvalues are in descending order\n",
    "* remeber that z = Qx, or in matrix form Z = XQ\n",
    "* turns out A is a covariance matrix of Z, therefore\n",
    "    - variance aka. information in Z is sorted in descending order\n",
    "    - none of the dimensions of Z are correlated\n"
   ]
  },
  {
   "cell_type": "markdown",
   "metadata": {},
   "source": [
    "### Extending PCA"
   ]
  },
  {
   "cell_type": "markdown",
   "metadata": {},
   "source": [
    "* Usually in NLP we create what are called as term-document matrices. Where each term is an input dimension and each document is a sample.\n",
    "* PCA helps us combine input features (a.k.a. words/terms, if you put the words along the columns of your input matrix)\n",
    "\n",
    "\n",
    "But what if we wanted to combine and decorrelate by document? Just do PCA on the transpose!\n",
    "\n",
    "Weird result:\n",
    "    - still have D eigenvalues (covariance is N x N)\n",
    "    - they are the same eigenvalues we found before"
   ]
  },
  {
   "cell_type": "markdown",
   "metadata": {},
   "source": [
    "## SVD (Singular value decomposition)"
   ]
  },
  {
   "cell_type": "markdown",
   "metadata": {},
   "source": [
    "SVD does both PCA and 'Extending PCA' at the same time!"
   ]
  },
  {
   "cell_type": "markdown",
   "metadata": {},
   "source": [
    "<img src='svd.png' >"
   ]
  },
  {
   "cell_type": "markdown",
   "metadata": {},
   "source": [
    "# Latent Semantic Analysis continued 2..."
   ]
  },
  {
   "cell_type": "code",
   "execution_count": 13,
   "metadata": {
    "collapsed": true
   },
   "outputs": [],
   "source": [
    "import nltk\n",
    "import numpy as np\n",
    "import pandas as pd\n",
    "import matplotlib.pyplot as plt\n",
    "%matplotlib notebook\n",
    "\n",
    "from nltk.stem import WordNetLemmatizer\n",
    "from sklearn.decomposition import TruncatedSVD\n",
    "from nltk.corpus import stopwords as nltk_stopwords\n",
    "from sklearn.model_selection import train_test_split"
   ]
  },
  {
   "cell_type": "code",
   "execution_count": 14,
   "metadata": {
    "collapsed": true
   },
   "outputs": [],
   "source": [
    "word_net_lemmatizer = WordNetLemmatizer()"
   ]
  },
  {
   "cell_type": "markdown",
   "metadata": {},
   "source": [
    "* Loading book titles and stopwords"
   ]
  },
  {
   "cell_type": "code",
   "execution_count": 15,
   "metadata": {},
   "outputs": [],
   "source": [
    "titles = [line.strip() for line in open('all_book_titles.txt')]\n",
    "stopwords = set(nltk_stopwords.words('english'))"
   ]
  },
  {
   "cell_type": "markdown",
   "metadata": {},
   "source": [
    "* Defining custom tokenizing function"
   ]
  },
  {
   "cell_type": "code",
   "execution_count": 16,
   "metadata": {
    "collapsed": true
   },
   "outputs": [],
   "source": [
    "def custom_tokenizer_lsa(s):\n",
    "    # lowering all text\n",
    "    s = s.lower()\n",
    "    \n",
    "    # this is equivalent to list.split() but let's keep faith in word_tokenize()\n",
    "    tokens = nltk.tokenize.word_tokenize(s)\n",
    "    \n",
    "    # remove the words with length <= 2\n",
    "    tokens = [token for token in tokens if len(token) > 2]\n",
    "    \n",
    "    # lemmatize the tokens\n",
    "    tokens = list(map(lambda token: word_net_lemmatizer.lemmatize(token), tokens))\n",
    "    \n",
    "    # remove the stopwords from the tokens\n",
    "    tokens = [token for token in tokens if token not in stopwords]\n",
    "    \n",
    "    # since book titles have tokens like '2nd edition', '1st edition' etc.\n",
    "    tokens = [token for token in tokens if not any(c.isdigit() for c in token)]\n",
    "    \n",
    "    return tokens"
   ]
  },
  {
   "cell_type": "markdown",
   "metadata": {},
   "source": [
    "* Tokenization process"
   ]
  },
  {
   "cell_type": "code",
   "execution_count": 17,
   "metadata": {},
   "outputs": [],
   "source": [
    "# creating the main vocabulary dictionary\n",
    "vocabulary = {}\n",
    "vocabulary_index = 0\n",
    "\n",
    "all_tokens = []\n",
    "all_titles = []\n",
    "index_word_map = []\n",
    "\n",
    "for title in titles:\n",
    "    #title = title.encode('ascii', 'ignore')\n",
    "    all_titles.append(title)\n",
    "    tokens = custom_tokenizer_lsa(title)\n",
    "    all_tokens.append(tokens)\n",
    "    for t in tokens:\n",
    "        if t not in vocabulary:\n",
    "            vocabulary[t] = vocabulary_index\n",
    "            vocabulary_index += 1\n",
    "            index_word_map.append(t)"
   ]
  },
  {
   "cell_type": "markdown",
   "metadata": {},
   "source": [
    "* Defining custom token to vector function\n",
    "* **NOTE!** This is **UNSUPERVISED** learning method, hence not labelling\n",
    "* We are creating feature as an indicator function, hence no normalization, just binary 0 or 1 (absence or presence)"
   ]
  },
  {
   "cell_type": "code",
   "execution_count": 18,
   "metadata": {},
   "outputs": [],
   "source": [
    "def tokens_to_vector_lsa(tokens_list):\n",
    "    # this is the feature vector\n",
    "    feature = np.zeros(len(vocabulary))\n",
    "    for token in tokens_list:\n",
    "        feature[vocabulary[token]] = 1      # IMPORTANT!\n",
    "    return feature"
   ]
  },
  {
   "cell_type": "markdown",
   "metadata": {},
   "source": [
    "* N = Number of samples\n",
    "* D = Number of dimensions"
   ]
  },
  {
   "cell_type": "code",
   "execution_count": 19,
   "metadata": {
    "collapsed": true
   },
   "outputs": [],
   "source": [
    "N = len(all_tokens)\n",
    "D = len(vocabulary)"
   ]
  },
  {
   "cell_type": "markdown",
   "metadata": {},
   "source": [
    "* So the data matrix is DxN since we are doing term-document matrices and not document-term matrices."
   ]
  },
  {
   "cell_type": "code",
   "execution_count": 20,
   "metadata": {},
   "outputs": [],
   "source": [
    "data = np.zeros((D, N))"
   ]
  },
  {
   "cell_type": "code",
   "execution_count": 21,
   "metadata": {},
   "outputs": [
    {
     "data": {
      "text/html": [
       "<div>\n",
       "<style>\n",
       "    .dataframe thead tr:only-child th {\n",
       "        text-align: right;\n",
       "    }\n",
       "\n",
       "    .dataframe thead th {\n",
       "        text-align: left;\n",
       "    }\n",
       "\n",
       "    .dataframe tbody tr th {\n",
       "        vertical-align: top;\n",
       "    }\n",
       "</style>\n",
       "<table border=\"1\" class=\"dataframe\">\n",
       "  <thead>\n",
       "    <tr style=\"text-align: right;\">\n",
       "      <th></th>\n",
       "      <th>input_0</th>\n",
       "      <th>input_1</th>\n",
       "      <th>input_2</th>\n",
       "      <th>input_3</th>\n",
       "      <th>input_4</th>\n",
       "      <th>input_5</th>\n",
       "      <th>input_6</th>\n",
       "      <th>input_7</th>\n",
       "      <th>input_8</th>\n",
       "      <th>input_9</th>\n",
       "      <th>...</th>\n",
       "      <th>input_2363</th>\n",
       "      <th>input_2364</th>\n",
       "      <th>input_2365</th>\n",
       "      <th>input_2366</th>\n",
       "      <th>input_2367</th>\n",
       "      <th>input_2368</th>\n",
       "      <th>input_2369</th>\n",
       "      <th>input_2370</th>\n",
       "      <th>input_2371</th>\n",
       "      <th>input_2372</th>\n",
       "    </tr>\n",
       "  </thead>\n",
       "  <tbody>\n",
       "    <tr>\n",
       "      <th>0</th>\n",
       "      <td>1.0</td>\n",
       "      <td>0.0</td>\n",
       "      <td>0.0</td>\n",
       "      <td>0.0</td>\n",
       "      <td>0.0</td>\n",
       "      <td>0.0</td>\n",
       "      <td>0.0</td>\n",
       "      <td>0.0</td>\n",
       "      <td>0.0</td>\n",
       "      <td>0.0</td>\n",
       "      <td>...</td>\n",
       "      <td>0.0</td>\n",
       "      <td>0.0</td>\n",
       "      <td>0.0</td>\n",
       "      <td>0.0</td>\n",
       "      <td>0.0</td>\n",
       "      <td>0.0</td>\n",
       "      <td>0.0</td>\n",
       "      <td>0.0</td>\n",
       "      <td>0.0</td>\n",
       "      <td>0.0</td>\n",
       "    </tr>\n",
       "    <tr>\n",
       "      <th>1</th>\n",
       "      <td>1.0</td>\n",
       "      <td>0.0</td>\n",
       "      <td>0.0</td>\n",
       "      <td>0.0</td>\n",
       "      <td>0.0</td>\n",
       "      <td>0.0</td>\n",
       "      <td>0.0</td>\n",
       "      <td>0.0</td>\n",
       "      <td>1.0</td>\n",
       "      <td>0.0</td>\n",
       "      <td>...</td>\n",
       "      <td>0.0</td>\n",
       "      <td>0.0</td>\n",
       "      <td>0.0</td>\n",
       "      <td>0.0</td>\n",
       "      <td>0.0</td>\n",
       "      <td>0.0</td>\n",
       "      <td>0.0</td>\n",
       "      <td>0.0</td>\n",
       "      <td>0.0</td>\n",
       "      <td>0.0</td>\n",
       "    </tr>\n",
       "    <tr>\n",
       "      <th>2</th>\n",
       "      <td>1.0</td>\n",
       "      <td>0.0</td>\n",
       "      <td>0.0</td>\n",
       "      <td>0.0</td>\n",
       "      <td>0.0</td>\n",
       "      <td>0.0</td>\n",
       "      <td>0.0</td>\n",
       "      <td>0.0</td>\n",
       "      <td>1.0</td>\n",
       "      <td>0.0</td>\n",
       "      <td>...</td>\n",
       "      <td>0.0</td>\n",
       "      <td>0.0</td>\n",
       "      <td>0.0</td>\n",
       "      <td>0.0</td>\n",
       "      <td>0.0</td>\n",
       "      <td>0.0</td>\n",
       "      <td>0.0</td>\n",
       "      <td>0.0</td>\n",
       "      <td>0.0</td>\n",
       "      <td>0.0</td>\n",
       "    </tr>\n",
       "    <tr>\n",
       "      <th>3</th>\n",
       "      <td>1.0</td>\n",
       "      <td>0.0</td>\n",
       "      <td>0.0</td>\n",
       "      <td>0.0</td>\n",
       "      <td>0.0</td>\n",
       "      <td>0.0</td>\n",
       "      <td>0.0</td>\n",
       "      <td>0.0</td>\n",
       "      <td>0.0</td>\n",
       "      <td>0.0</td>\n",
       "      <td>...</td>\n",
       "      <td>0.0</td>\n",
       "      <td>0.0</td>\n",
       "      <td>0.0</td>\n",
       "      <td>0.0</td>\n",
       "      <td>0.0</td>\n",
       "      <td>0.0</td>\n",
       "      <td>0.0</td>\n",
       "      <td>0.0</td>\n",
       "      <td>0.0</td>\n",
       "      <td>0.0</td>\n",
       "    </tr>\n",
       "    <tr>\n",
       "      <th>4</th>\n",
       "      <td>0.0</td>\n",
       "      <td>1.0</td>\n",
       "      <td>0.0</td>\n",
       "      <td>0.0</td>\n",
       "      <td>0.0</td>\n",
       "      <td>0.0</td>\n",
       "      <td>0.0</td>\n",
       "      <td>1.0</td>\n",
       "      <td>0.0</td>\n",
       "      <td>0.0</td>\n",
       "      <td>...</td>\n",
       "      <td>0.0</td>\n",
       "      <td>0.0</td>\n",
       "      <td>0.0</td>\n",
       "      <td>0.0</td>\n",
       "      <td>0.0</td>\n",
       "      <td>0.0</td>\n",
       "      <td>0.0</td>\n",
       "      <td>0.0</td>\n",
       "      <td>0.0</td>\n",
       "      <td>0.0</td>\n",
       "    </tr>\n",
       "  </tbody>\n",
       "</table>\n",
       "<p>5 rows × 2373 columns</p>\n",
       "</div>"
      ],
      "text/plain": [
       "   input_0  input_1  input_2  input_3  input_4  input_5  input_6  input_7  \\\n",
       "0      1.0      0.0      0.0      0.0      0.0      0.0      0.0      0.0   \n",
       "1      1.0      0.0      0.0      0.0      0.0      0.0      0.0      0.0   \n",
       "2      1.0      0.0      0.0      0.0      0.0      0.0      0.0      0.0   \n",
       "3      1.0      0.0      0.0      0.0      0.0      0.0      0.0      0.0   \n",
       "4      0.0      1.0      0.0      0.0      0.0      0.0      0.0      1.0   \n",
       "\n",
       "   input_8  input_9     ...      input_2363  input_2364  input_2365  \\\n",
       "0      0.0      0.0     ...             0.0         0.0         0.0   \n",
       "1      1.0      0.0     ...             0.0         0.0         0.0   \n",
       "2      1.0      0.0     ...             0.0         0.0         0.0   \n",
       "3      0.0      0.0     ...             0.0         0.0         0.0   \n",
       "4      0.0      0.0     ...             0.0         0.0         0.0   \n",
       "\n",
       "   input_2366  input_2367  input_2368  input_2369  input_2370  input_2371  \\\n",
       "0         0.0         0.0         0.0         0.0         0.0         0.0   \n",
       "1         0.0         0.0         0.0         0.0         0.0         0.0   \n",
       "2         0.0         0.0         0.0         0.0         0.0         0.0   \n",
       "3         0.0         0.0         0.0         0.0         0.0         0.0   \n",
       "4         0.0         0.0         0.0         0.0         0.0         0.0   \n",
       "\n",
       "   input_2372  \n",
       "0         0.0  \n",
       "1         0.0  \n",
       "2         0.0  \n",
       "3         0.0  \n",
       "4         0.0  \n",
       "\n",
       "[5 rows x 2373 columns]"
      ]
     },
     "execution_count": 21,
     "metadata": {},
     "output_type": "execute_result"
    }
   ],
   "source": [
    "i = 0\n",
    "for tokens_list in all_tokens:\n",
    "    X = tokens_to_vector_lsa(tokens_list)\n",
    "    data[:, i] = X\n",
    "    i += 1\n",
    "    \n",
    "df = pd.DataFrame(data=data, columns=['input_' + str(i) for i in range(len(all_tokens))])\n",
    "df.head()"
   ]
  },
  {
   "cell_type": "markdown",
   "metadata": {},
   "source": [
    "* SVD Transformation"
   ]
  },
  {
   "cell_type": "code",
   "execution_count": 22,
   "metadata": {},
   "outputs": [
    {
     "data": {
      "text/html": [
       "<div>\n",
       "<style>\n",
       "    .dataframe thead tr:only-child th {\n",
       "        text-align: right;\n",
       "    }\n",
       "\n",
       "    .dataframe thead th {\n",
       "        text-align: left;\n",
       "    }\n",
       "\n",
       "    .dataframe tbody tr th {\n",
       "        vertical-align: top;\n",
       "    }\n",
       "</style>\n",
       "<table border=\"1\" class=\"dataframe\">\n",
       "  <thead>\n",
       "    <tr style=\"text-align: right;\">\n",
       "      <th></th>\n",
       "      <th>0</th>\n",
       "      <th>1</th>\n",
       "    </tr>\n",
       "  </thead>\n",
       "  <tbody>\n",
       "    <tr>\n",
       "      <th>0</th>\n",
       "      <td>0.176727</td>\n",
       "      <td>0.655931</td>\n",
       "    </tr>\n",
       "    <tr>\n",
       "      <th>1</th>\n",
       "      <td>0.079003</td>\n",
       "      <td>-0.021222</td>\n",
       "    </tr>\n",
       "    <tr>\n",
       "      <th>2</th>\n",
       "      <td>0.006390</td>\n",
       "      <td>0.004299</td>\n",
       "    </tr>\n",
       "    <tr>\n",
       "      <th>3</th>\n",
       "      <td>0.071577</td>\n",
       "      <td>0.011783</td>\n",
       "    </tr>\n",
       "    <tr>\n",
       "      <th>4</th>\n",
       "      <td>0.285304</td>\n",
       "      <td>0.168530</td>\n",
       "    </tr>\n",
       "  </tbody>\n",
       "</table>\n",
       "</div>"
      ],
      "text/plain": [
       "          0         1\n",
       "0  0.176727  0.655931\n",
       "1  0.079003 -0.021222\n",
       "2  0.006390  0.004299\n",
       "3  0.071577  0.011783\n",
       "4  0.285304  0.168530"
      ]
     },
     "execution_count": 22,
     "metadata": {},
     "output_type": "execute_result"
    }
   ],
   "source": [
    "svd = TruncatedSVD()\n",
    "Z = svd.fit_transform(data)\n",
    "\n",
    "df = pd.DataFrame(data=Z)\n",
    "df.head()"
   ]
  },
  {
   "cell_type": "code",
   "execution_count": 23,
   "metadata": {},
   "outputs": [
    {
     "data": {
      "text/plain": [
       "(2152, 2)"
      ]
     },
     "execution_count": 23,
     "metadata": {},
     "output_type": "execute_result"
    }
   ],
   "source": [
    "df.shape"
   ]
  },
  {
   "cell_type": "markdown",
   "metadata": {},
   "source": [
    "This plots a word matrix in scatter plot"
   ]
  },
  {
   "cell_type": "code",
   "execution_count": 25,
   "metadata": {},
   "outputs": [
    {
     "data": {
      "application/javascript": [
       "/* Put everything inside the global mpl namespace */\n",
       "window.mpl = {};\n",
       "\n",
       "\n",
       "mpl.get_websocket_type = function() {\n",
       "    if (typeof(WebSocket) !== 'undefined') {\n",
       "        return WebSocket;\n",
       "    } else if (typeof(MozWebSocket) !== 'undefined') {\n",
       "        return MozWebSocket;\n",
       "    } else {\n",
       "        alert('Your browser does not have WebSocket support.' +\n",
       "              'Please try Chrome, Safari or Firefox ≥ 6. ' +\n",
       "              'Firefox 4 and 5 are also supported but you ' +\n",
       "              'have to enable WebSockets in about:config.');\n",
       "    };\n",
       "}\n",
       "\n",
       "mpl.figure = function(figure_id, websocket, ondownload, parent_element) {\n",
       "    this.id = figure_id;\n",
       "\n",
       "    this.ws = websocket;\n",
       "\n",
       "    this.supports_binary = (this.ws.binaryType != undefined);\n",
       "\n",
       "    if (!this.supports_binary) {\n",
       "        var warnings = document.getElementById(\"mpl-warnings\");\n",
       "        if (warnings) {\n",
       "            warnings.style.display = 'block';\n",
       "            warnings.textContent = (\n",
       "                \"This browser does not support binary websocket messages. \" +\n",
       "                    \"Performance may be slow.\");\n",
       "        }\n",
       "    }\n",
       "\n",
       "    this.imageObj = new Image();\n",
       "\n",
       "    this.context = undefined;\n",
       "    this.message = undefined;\n",
       "    this.canvas = undefined;\n",
       "    this.rubberband_canvas = undefined;\n",
       "    this.rubberband_context = undefined;\n",
       "    this.format_dropdown = undefined;\n",
       "\n",
       "    this.image_mode = 'full';\n",
       "\n",
       "    this.root = $('<div/>');\n",
       "    this._root_extra_style(this.root)\n",
       "    this.root.attr('style', 'display: inline-block');\n",
       "\n",
       "    $(parent_element).append(this.root);\n",
       "\n",
       "    this._init_header(this);\n",
       "    this._init_canvas(this);\n",
       "    this._init_toolbar(this);\n",
       "\n",
       "    var fig = this;\n",
       "\n",
       "    this.waiting = false;\n",
       "\n",
       "    this.ws.onopen =  function () {\n",
       "            fig.send_message(\"supports_binary\", {value: fig.supports_binary});\n",
       "            fig.send_message(\"send_image_mode\", {});\n",
       "            if (mpl.ratio != 1) {\n",
       "                fig.send_message(\"set_dpi_ratio\", {'dpi_ratio': mpl.ratio});\n",
       "            }\n",
       "            fig.send_message(\"refresh\", {});\n",
       "        }\n",
       "\n",
       "    this.imageObj.onload = function() {\n",
       "            if (fig.image_mode == 'full') {\n",
       "                // Full images could contain transparency (where diff images\n",
       "                // almost always do), so we need to clear the canvas so that\n",
       "                // there is no ghosting.\n",
       "                fig.context.clearRect(0, 0, fig.canvas.width, fig.canvas.height);\n",
       "            }\n",
       "            fig.context.drawImage(fig.imageObj, 0, 0);\n",
       "        };\n",
       "\n",
       "    this.imageObj.onunload = function() {\n",
       "        this.ws.close();\n",
       "    }\n",
       "\n",
       "    this.ws.onmessage = this._make_on_message_function(this);\n",
       "\n",
       "    this.ondownload = ondownload;\n",
       "}\n",
       "\n",
       "mpl.figure.prototype._init_header = function() {\n",
       "    var titlebar = $(\n",
       "        '<div class=\"ui-dialog-titlebar ui-widget-header ui-corner-all ' +\n",
       "        'ui-helper-clearfix\"/>');\n",
       "    var titletext = $(\n",
       "        '<div class=\"ui-dialog-title\" style=\"width: 100%; ' +\n",
       "        'text-align: center; padding: 3px;\"/>');\n",
       "    titlebar.append(titletext)\n",
       "    this.root.append(titlebar);\n",
       "    this.header = titletext[0];\n",
       "}\n",
       "\n",
       "\n",
       "\n",
       "mpl.figure.prototype._canvas_extra_style = function(canvas_div) {\n",
       "\n",
       "}\n",
       "\n",
       "\n",
       "mpl.figure.prototype._root_extra_style = function(canvas_div) {\n",
       "\n",
       "}\n",
       "\n",
       "mpl.figure.prototype._init_canvas = function() {\n",
       "    var fig = this;\n",
       "\n",
       "    var canvas_div = $('<div/>');\n",
       "\n",
       "    canvas_div.attr('style', 'position: relative; clear: both; outline: 0');\n",
       "\n",
       "    function canvas_keyboard_event(event) {\n",
       "        return fig.key_event(event, event['data']);\n",
       "    }\n",
       "\n",
       "    canvas_div.keydown('key_press', canvas_keyboard_event);\n",
       "    canvas_div.keyup('key_release', canvas_keyboard_event);\n",
       "    this.canvas_div = canvas_div\n",
       "    this._canvas_extra_style(canvas_div)\n",
       "    this.root.append(canvas_div);\n",
       "\n",
       "    var canvas = $('<canvas/>');\n",
       "    canvas.addClass('mpl-canvas');\n",
       "    canvas.attr('style', \"left: 0; top: 0; z-index: 0; outline: 0\")\n",
       "\n",
       "    this.canvas = canvas[0];\n",
       "    this.context = canvas[0].getContext(\"2d\");\n",
       "\n",
       "    var backingStore = this.context.backingStorePixelRatio ||\n",
       "\tthis.context.webkitBackingStorePixelRatio ||\n",
       "\tthis.context.mozBackingStorePixelRatio ||\n",
       "\tthis.context.msBackingStorePixelRatio ||\n",
       "\tthis.context.oBackingStorePixelRatio ||\n",
       "\tthis.context.backingStorePixelRatio || 1;\n",
       "\n",
       "    mpl.ratio = (window.devicePixelRatio || 1) / backingStore;\n",
       "\n",
       "    var rubberband = $('<canvas/>');\n",
       "    rubberband.attr('style', \"position: absolute; left: 0; top: 0; z-index: 1;\")\n",
       "\n",
       "    var pass_mouse_events = true;\n",
       "\n",
       "    canvas_div.resizable({\n",
       "        start: function(event, ui) {\n",
       "            pass_mouse_events = false;\n",
       "        },\n",
       "        resize: function(event, ui) {\n",
       "            fig.request_resize(ui.size.width, ui.size.height);\n",
       "        },\n",
       "        stop: function(event, ui) {\n",
       "            pass_mouse_events = true;\n",
       "            fig.request_resize(ui.size.width, ui.size.height);\n",
       "        },\n",
       "    });\n",
       "\n",
       "    function mouse_event_fn(event) {\n",
       "        if (pass_mouse_events)\n",
       "            return fig.mouse_event(event, event['data']);\n",
       "    }\n",
       "\n",
       "    rubberband.mousedown('button_press', mouse_event_fn);\n",
       "    rubberband.mouseup('button_release', mouse_event_fn);\n",
       "    // Throttle sequential mouse events to 1 every 20ms.\n",
       "    rubberband.mousemove('motion_notify', mouse_event_fn);\n",
       "\n",
       "    rubberband.mouseenter('figure_enter', mouse_event_fn);\n",
       "    rubberband.mouseleave('figure_leave', mouse_event_fn);\n",
       "\n",
       "    canvas_div.on(\"wheel\", function (event) {\n",
       "        event = event.originalEvent;\n",
       "        event['data'] = 'scroll'\n",
       "        if (event.deltaY < 0) {\n",
       "            event.step = 1;\n",
       "        } else {\n",
       "            event.step = -1;\n",
       "        }\n",
       "        mouse_event_fn(event);\n",
       "    });\n",
       "\n",
       "    canvas_div.append(canvas);\n",
       "    canvas_div.append(rubberband);\n",
       "\n",
       "    this.rubberband = rubberband;\n",
       "    this.rubberband_canvas = rubberband[0];\n",
       "    this.rubberband_context = rubberband[0].getContext(\"2d\");\n",
       "    this.rubberband_context.strokeStyle = \"#000000\";\n",
       "\n",
       "    this._resize_canvas = function(width, height) {\n",
       "        // Keep the size of the canvas, canvas container, and rubber band\n",
       "        // canvas in synch.\n",
       "        canvas_div.css('width', width)\n",
       "        canvas_div.css('height', height)\n",
       "\n",
       "        canvas.attr('width', width * mpl.ratio);\n",
       "        canvas.attr('height', height * mpl.ratio);\n",
       "        canvas.attr('style', 'width: ' + width + 'px; height: ' + height + 'px;');\n",
       "\n",
       "        rubberband.attr('width', width);\n",
       "        rubberband.attr('height', height);\n",
       "    }\n",
       "\n",
       "    // Set the figure to an initial 600x600px, this will subsequently be updated\n",
       "    // upon first draw.\n",
       "    this._resize_canvas(600, 600);\n",
       "\n",
       "    // Disable right mouse context menu.\n",
       "    $(this.rubberband_canvas).bind(\"contextmenu\",function(e){\n",
       "        return false;\n",
       "    });\n",
       "\n",
       "    function set_focus () {\n",
       "        canvas.focus();\n",
       "        canvas_div.focus();\n",
       "    }\n",
       "\n",
       "    window.setTimeout(set_focus, 100);\n",
       "}\n",
       "\n",
       "mpl.figure.prototype._init_toolbar = function() {\n",
       "    var fig = this;\n",
       "\n",
       "    var nav_element = $('<div/>')\n",
       "    nav_element.attr('style', 'width: 100%');\n",
       "    this.root.append(nav_element);\n",
       "\n",
       "    // Define a callback function for later on.\n",
       "    function toolbar_event(event) {\n",
       "        return fig.toolbar_button_onclick(event['data']);\n",
       "    }\n",
       "    function toolbar_mouse_event(event) {\n",
       "        return fig.toolbar_button_onmouseover(event['data']);\n",
       "    }\n",
       "\n",
       "    for(var toolbar_ind in mpl.toolbar_items) {\n",
       "        var name = mpl.toolbar_items[toolbar_ind][0];\n",
       "        var tooltip = mpl.toolbar_items[toolbar_ind][1];\n",
       "        var image = mpl.toolbar_items[toolbar_ind][2];\n",
       "        var method_name = mpl.toolbar_items[toolbar_ind][3];\n",
       "\n",
       "        if (!name) {\n",
       "            // put a spacer in here.\n",
       "            continue;\n",
       "        }\n",
       "        var button = $('<button/>');\n",
       "        button.addClass('ui-button ui-widget ui-state-default ui-corner-all ' +\n",
       "                        'ui-button-icon-only');\n",
       "        button.attr('role', 'button');\n",
       "        button.attr('aria-disabled', 'false');\n",
       "        button.click(method_name, toolbar_event);\n",
       "        button.mouseover(tooltip, toolbar_mouse_event);\n",
       "\n",
       "        var icon_img = $('<span/>');\n",
       "        icon_img.addClass('ui-button-icon-primary ui-icon');\n",
       "        icon_img.addClass(image);\n",
       "        icon_img.addClass('ui-corner-all');\n",
       "\n",
       "        var tooltip_span = $('<span/>');\n",
       "        tooltip_span.addClass('ui-button-text');\n",
       "        tooltip_span.html(tooltip);\n",
       "\n",
       "        button.append(icon_img);\n",
       "        button.append(tooltip_span);\n",
       "\n",
       "        nav_element.append(button);\n",
       "    }\n",
       "\n",
       "    var fmt_picker_span = $('<span/>');\n",
       "\n",
       "    var fmt_picker = $('<select/>');\n",
       "    fmt_picker.addClass('mpl-toolbar-option ui-widget ui-widget-content');\n",
       "    fmt_picker_span.append(fmt_picker);\n",
       "    nav_element.append(fmt_picker_span);\n",
       "    this.format_dropdown = fmt_picker[0];\n",
       "\n",
       "    for (var ind in mpl.extensions) {\n",
       "        var fmt = mpl.extensions[ind];\n",
       "        var option = $(\n",
       "            '<option/>', {selected: fmt === mpl.default_extension}).html(fmt);\n",
       "        fmt_picker.append(option)\n",
       "    }\n",
       "\n",
       "    // Add hover states to the ui-buttons\n",
       "    $( \".ui-button\" ).hover(\n",
       "        function() { $(this).addClass(\"ui-state-hover\");},\n",
       "        function() { $(this).removeClass(\"ui-state-hover\");}\n",
       "    );\n",
       "\n",
       "    var status_bar = $('<span class=\"mpl-message\"/>');\n",
       "    nav_element.append(status_bar);\n",
       "    this.message = status_bar[0];\n",
       "}\n",
       "\n",
       "mpl.figure.prototype.request_resize = function(x_pixels, y_pixels) {\n",
       "    // Request matplotlib to resize the figure. Matplotlib will then trigger a resize in the client,\n",
       "    // which will in turn request a refresh of the image.\n",
       "    this.send_message('resize', {'width': x_pixels, 'height': y_pixels});\n",
       "}\n",
       "\n",
       "mpl.figure.prototype.send_message = function(type, properties) {\n",
       "    properties['type'] = type;\n",
       "    properties['figure_id'] = this.id;\n",
       "    this.ws.send(JSON.stringify(properties));\n",
       "}\n",
       "\n",
       "mpl.figure.prototype.send_draw_message = function() {\n",
       "    if (!this.waiting) {\n",
       "        this.waiting = true;\n",
       "        this.ws.send(JSON.stringify({type: \"draw\", figure_id: this.id}));\n",
       "    }\n",
       "}\n",
       "\n",
       "\n",
       "mpl.figure.prototype.handle_save = function(fig, msg) {\n",
       "    var format_dropdown = fig.format_dropdown;\n",
       "    var format = format_dropdown.options[format_dropdown.selectedIndex].value;\n",
       "    fig.ondownload(fig, format);\n",
       "}\n",
       "\n",
       "\n",
       "mpl.figure.prototype.handle_resize = function(fig, msg) {\n",
       "    var size = msg['size'];\n",
       "    if (size[0] != fig.canvas.width || size[1] != fig.canvas.height) {\n",
       "        fig._resize_canvas(size[0], size[1]);\n",
       "        fig.send_message(\"refresh\", {});\n",
       "    };\n",
       "}\n",
       "\n",
       "mpl.figure.prototype.handle_rubberband = function(fig, msg) {\n",
       "    var x0 = msg['x0'] / mpl.ratio;\n",
       "    var y0 = (fig.canvas.height - msg['y0']) / mpl.ratio;\n",
       "    var x1 = msg['x1'] / mpl.ratio;\n",
       "    var y1 = (fig.canvas.height - msg['y1']) / mpl.ratio;\n",
       "    x0 = Math.floor(x0) + 0.5;\n",
       "    y0 = Math.floor(y0) + 0.5;\n",
       "    x1 = Math.floor(x1) + 0.5;\n",
       "    y1 = Math.floor(y1) + 0.5;\n",
       "    var min_x = Math.min(x0, x1);\n",
       "    var min_y = Math.min(y0, y1);\n",
       "    var width = Math.abs(x1 - x0);\n",
       "    var height = Math.abs(y1 - y0);\n",
       "\n",
       "    fig.rubberband_context.clearRect(\n",
       "        0, 0, fig.canvas.width, fig.canvas.height);\n",
       "\n",
       "    fig.rubberband_context.strokeRect(min_x, min_y, width, height);\n",
       "}\n",
       "\n",
       "mpl.figure.prototype.handle_figure_label = function(fig, msg) {\n",
       "    // Updates the figure title.\n",
       "    fig.header.textContent = msg['label'];\n",
       "}\n",
       "\n",
       "mpl.figure.prototype.handle_cursor = function(fig, msg) {\n",
       "    var cursor = msg['cursor'];\n",
       "    switch(cursor)\n",
       "    {\n",
       "    case 0:\n",
       "        cursor = 'pointer';\n",
       "        break;\n",
       "    case 1:\n",
       "        cursor = 'default';\n",
       "        break;\n",
       "    case 2:\n",
       "        cursor = 'crosshair';\n",
       "        break;\n",
       "    case 3:\n",
       "        cursor = 'move';\n",
       "        break;\n",
       "    }\n",
       "    fig.rubberband_canvas.style.cursor = cursor;\n",
       "}\n",
       "\n",
       "mpl.figure.prototype.handle_message = function(fig, msg) {\n",
       "    fig.message.textContent = msg['message'];\n",
       "}\n",
       "\n",
       "mpl.figure.prototype.handle_draw = function(fig, msg) {\n",
       "    // Request the server to send over a new figure.\n",
       "    fig.send_draw_message();\n",
       "}\n",
       "\n",
       "mpl.figure.prototype.handle_image_mode = function(fig, msg) {\n",
       "    fig.image_mode = msg['mode'];\n",
       "}\n",
       "\n",
       "mpl.figure.prototype.updated_canvas_event = function() {\n",
       "    // Called whenever the canvas gets updated.\n",
       "    this.send_message(\"ack\", {});\n",
       "}\n",
       "\n",
       "// A function to construct a web socket function for onmessage handling.\n",
       "// Called in the figure constructor.\n",
       "mpl.figure.prototype._make_on_message_function = function(fig) {\n",
       "    return function socket_on_message(evt) {\n",
       "        if (evt.data instanceof Blob) {\n",
       "            /* FIXME: We get \"Resource interpreted as Image but\n",
       "             * transferred with MIME type text/plain:\" errors on\n",
       "             * Chrome.  But how to set the MIME type?  It doesn't seem\n",
       "             * to be part of the websocket stream */\n",
       "            evt.data.type = \"image/png\";\n",
       "\n",
       "            /* Free the memory for the previous frames */\n",
       "            if (fig.imageObj.src) {\n",
       "                (window.URL || window.webkitURL).revokeObjectURL(\n",
       "                    fig.imageObj.src);\n",
       "            }\n",
       "\n",
       "            fig.imageObj.src = (window.URL || window.webkitURL).createObjectURL(\n",
       "                evt.data);\n",
       "            fig.updated_canvas_event();\n",
       "            fig.waiting = false;\n",
       "            return;\n",
       "        }\n",
       "        else if (typeof evt.data === 'string' && evt.data.slice(0, 21) == \"data:image/png;base64\") {\n",
       "            fig.imageObj.src = evt.data;\n",
       "            fig.updated_canvas_event();\n",
       "            fig.waiting = false;\n",
       "            return;\n",
       "        }\n",
       "\n",
       "        var msg = JSON.parse(evt.data);\n",
       "        var msg_type = msg['type'];\n",
       "\n",
       "        // Call the  \"handle_{type}\" callback, which takes\n",
       "        // the figure and JSON message as its only arguments.\n",
       "        try {\n",
       "            var callback = fig[\"handle_\" + msg_type];\n",
       "        } catch (e) {\n",
       "            console.log(\"No handler for the '\" + msg_type + \"' message type: \", msg);\n",
       "            return;\n",
       "        }\n",
       "\n",
       "        if (callback) {\n",
       "            try {\n",
       "                // console.log(\"Handling '\" + msg_type + \"' message: \", msg);\n",
       "                callback(fig, msg);\n",
       "            } catch (e) {\n",
       "                console.log(\"Exception inside the 'handler_\" + msg_type + \"' callback:\", e, e.stack, msg);\n",
       "            }\n",
       "        }\n",
       "    };\n",
       "}\n",
       "\n",
       "// from http://stackoverflow.com/questions/1114465/getting-mouse-location-in-canvas\n",
       "mpl.findpos = function(e) {\n",
       "    //this section is from http://www.quirksmode.org/js/events_properties.html\n",
       "    var targ;\n",
       "    if (!e)\n",
       "        e = window.event;\n",
       "    if (e.target)\n",
       "        targ = e.target;\n",
       "    else if (e.srcElement)\n",
       "        targ = e.srcElement;\n",
       "    if (targ.nodeType == 3) // defeat Safari bug\n",
       "        targ = targ.parentNode;\n",
       "\n",
       "    // jQuery normalizes the pageX and pageY\n",
       "    // pageX,Y are the mouse positions relative to the document\n",
       "    // offset() returns the position of the element relative to the document\n",
       "    var x = e.pageX - $(targ).offset().left;\n",
       "    var y = e.pageY - $(targ).offset().top;\n",
       "\n",
       "    return {\"x\": x, \"y\": y};\n",
       "};\n",
       "\n",
       "/*\n",
       " * return a copy of an object with only non-object keys\n",
       " * we need this to avoid circular references\n",
       " * http://stackoverflow.com/a/24161582/3208463\n",
       " */\n",
       "function simpleKeys (original) {\n",
       "  return Object.keys(original).reduce(function (obj, key) {\n",
       "    if (typeof original[key] !== 'object')\n",
       "        obj[key] = original[key]\n",
       "    return obj;\n",
       "  }, {});\n",
       "}\n",
       "\n",
       "mpl.figure.prototype.mouse_event = function(event, name) {\n",
       "    var canvas_pos = mpl.findpos(event)\n",
       "\n",
       "    if (name === 'button_press')\n",
       "    {\n",
       "        this.canvas.focus();\n",
       "        this.canvas_div.focus();\n",
       "    }\n",
       "\n",
       "    var x = canvas_pos.x * mpl.ratio;\n",
       "    var y = canvas_pos.y * mpl.ratio;\n",
       "\n",
       "    this.send_message(name, {x: x, y: y, button: event.button,\n",
       "                             step: event.step,\n",
       "                             guiEvent: simpleKeys(event)});\n",
       "\n",
       "    /* This prevents the web browser from automatically changing to\n",
       "     * the text insertion cursor when the button is pressed.  We want\n",
       "     * to control all of the cursor setting manually through the\n",
       "     * 'cursor' event from matplotlib */\n",
       "    event.preventDefault();\n",
       "    return false;\n",
       "}\n",
       "\n",
       "mpl.figure.prototype._key_event_extra = function(event, name) {\n",
       "    // Handle any extra behaviour associated with a key event\n",
       "}\n",
       "\n",
       "mpl.figure.prototype.key_event = function(event, name) {\n",
       "\n",
       "    // Prevent repeat events\n",
       "    if (name == 'key_press')\n",
       "    {\n",
       "        if (event.which === this._key)\n",
       "            return;\n",
       "        else\n",
       "            this._key = event.which;\n",
       "    }\n",
       "    if (name == 'key_release')\n",
       "        this._key = null;\n",
       "\n",
       "    var value = '';\n",
       "    if (event.ctrlKey && event.which != 17)\n",
       "        value += \"ctrl+\";\n",
       "    if (event.altKey && event.which != 18)\n",
       "        value += \"alt+\";\n",
       "    if (event.shiftKey && event.which != 16)\n",
       "        value += \"shift+\";\n",
       "\n",
       "    value += 'k';\n",
       "    value += event.which.toString();\n",
       "\n",
       "    this._key_event_extra(event, name);\n",
       "\n",
       "    this.send_message(name, {key: value,\n",
       "                             guiEvent: simpleKeys(event)});\n",
       "    return false;\n",
       "}\n",
       "\n",
       "mpl.figure.prototype.toolbar_button_onclick = function(name) {\n",
       "    if (name == 'download') {\n",
       "        this.handle_save(this, null);\n",
       "    } else {\n",
       "        this.send_message(\"toolbar_button\", {name: name});\n",
       "    }\n",
       "};\n",
       "\n",
       "mpl.figure.prototype.toolbar_button_onmouseover = function(tooltip) {\n",
       "    this.message.textContent = tooltip;\n",
       "};\n",
       "mpl.toolbar_items = [[\"Home\", \"Reset original view\", \"fa fa-home icon-home\", \"home\"], [\"Back\", \"Back to  previous view\", \"fa fa-arrow-left icon-arrow-left\", \"back\"], [\"Forward\", \"Forward to next view\", \"fa fa-arrow-right icon-arrow-right\", \"forward\"], [\"\", \"\", \"\", \"\"], [\"Pan\", \"Pan axes with left mouse, zoom with right\", \"fa fa-arrows icon-move\", \"pan\"], [\"Zoom\", \"Zoom to rectangle\", \"fa fa-square-o icon-check-empty\", \"zoom\"], [\"\", \"\", \"\", \"\"], [\"Download\", \"Download plot\", \"fa fa-floppy-o icon-save\", \"download\"]];\n",
       "\n",
       "mpl.extensions = [\"eps\", \"jpeg\", \"pdf\", \"png\", \"ps\", \"raw\", \"svg\", \"tif\"];\n",
       "\n",
       "mpl.default_extension = \"png\";var comm_websocket_adapter = function(comm) {\n",
       "    // Create a \"websocket\"-like object which calls the given IPython comm\n",
       "    // object with the appropriate methods. Currently this is a non binary\n",
       "    // socket, so there is still some room for performance tuning.\n",
       "    var ws = {};\n",
       "\n",
       "    ws.close = function() {\n",
       "        comm.close()\n",
       "    };\n",
       "    ws.send = function(m) {\n",
       "        //console.log('sending', m);\n",
       "        comm.send(m);\n",
       "    };\n",
       "    // Register the callback with on_msg.\n",
       "    comm.on_msg(function(msg) {\n",
       "        //console.log('receiving', msg['content']['data'], msg);\n",
       "        // Pass the mpl event to the overriden (by mpl) onmessage function.\n",
       "        ws.onmessage(msg['content']['data'])\n",
       "    });\n",
       "    return ws;\n",
       "}\n",
       "\n",
       "mpl.mpl_figure_comm = function(comm, msg) {\n",
       "    // This is the function which gets called when the mpl process\n",
       "    // starts-up an IPython Comm through the \"matplotlib\" channel.\n",
       "\n",
       "    var id = msg.content.data.id;\n",
       "    // Get hold of the div created by the display call when the Comm\n",
       "    // socket was opened in Python.\n",
       "    var element = $(\"#\" + id);\n",
       "    var ws_proxy = comm_websocket_adapter(comm)\n",
       "\n",
       "    function ondownload(figure, format) {\n",
       "        window.open(figure.imageObj.src);\n",
       "    }\n",
       "\n",
       "    var fig = new mpl.figure(id, ws_proxy,\n",
       "                           ondownload,\n",
       "                           element.get(0));\n",
       "\n",
       "    // Call onopen now - mpl needs it, as it is assuming we've passed it a real\n",
       "    // web socket which is closed, not our websocket->open comm proxy.\n",
       "    ws_proxy.onopen();\n",
       "\n",
       "    fig.parent_element = element.get(0);\n",
       "    fig.cell_info = mpl.find_output_cell(\"<div id='\" + id + \"'></div>\");\n",
       "    if (!fig.cell_info) {\n",
       "        console.error(\"Failed to find cell for figure\", id, fig);\n",
       "        return;\n",
       "    }\n",
       "\n",
       "    var output_index = fig.cell_info[2]\n",
       "    var cell = fig.cell_info[0];\n",
       "\n",
       "};\n",
       "\n",
       "mpl.figure.prototype.handle_close = function(fig, msg) {\n",
       "    var width = fig.canvas.width/mpl.ratio\n",
       "    fig.root.unbind('remove')\n",
       "\n",
       "    // Update the output cell to use the data from the current canvas.\n",
       "    fig.push_to_output();\n",
       "    var dataURL = fig.canvas.toDataURL();\n",
       "    // Re-enable the keyboard manager in IPython - without this line, in FF,\n",
       "    // the notebook keyboard shortcuts fail.\n",
       "    IPython.keyboard_manager.enable()\n",
       "    $(fig.parent_element).html('<img src=\"' + dataURL + '\" width=\"' + width + '\">');\n",
       "    fig.close_ws(fig, msg);\n",
       "}\n",
       "\n",
       "mpl.figure.prototype.close_ws = function(fig, msg){\n",
       "    fig.send_message('closing', msg);\n",
       "    // fig.ws.close()\n",
       "}\n",
       "\n",
       "mpl.figure.prototype.push_to_output = function(remove_interactive) {\n",
       "    // Turn the data on the canvas into data in the output cell.\n",
       "    var width = this.canvas.width/mpl.ratio\n",
       "    var dataURL = this.canvas.toDataURL();\n",
       "    this.cell_info[1]['text/html'] = '<img src=\"' + dataURL + '\" width=\"' + width + '\">';\n",
       "}\n",
       "\n",
       "mpl.figure.prototype.updated_canvas_event = function() {\n",
       "    // Tell IPython that the notebook contents must change.\n",
       "    IPython.notebook.set_dirty(true);\n",
       "    this.send_message(\"ack\", {});\n",
       "    var fig = this;\n",
       "    // Wait a second, then push the new image to the DOM so\n",
       "    // that it is saved nicely (might be nice to debounce this).\n",
       "    setTimeout(function () { fig.push_to_output() }, 1000);\n",
       "}\n",
       "\n",
       "mpl.figure.prototype._init_toolbar = function() {\n",
       "    var fig = this;\n",
       "\n",
       "    var nav_element = $('<div/>')\n",
       "    nav_element.attr('style', 'width: 100%');\n",
       "    this.root.append(nav_element);\n",
       "\n",
       "    // Define a callback function for later on.\n",
       "    function toolbar_event(event) {\n",
       "        return fig.toolbar_button_onclick(event['data']);\n",
       "    }\n",
       "    function toolbar_mouse_event(event) {\n",
       "        return fig.toolbar_button_onmouseover(event['data']);\n",
       "    }\n",
       "\n",
       "    for(var toolbar_ind in mpl.toolbar_items){\n",
       "        var name = mpl.toolbar_items[toolbar_ind][0];\n",
       "        var tooltip = mpl.toolbar_items[toolbar_ind][1];\n",
       "        var image = mpl.toolbar_items[toolbar_ind][2];\n",
       "        var method_name = mpl.toolbar_items[toolbar_ind][3];\n",
       "\n",
       "        if (!name) { continue; };\n",
       "\n",
       "        var button = $('<button class=\"btn btn-default\" href=\"#\" title=\"' + name + '\"><i class=\"fa ' + image + ' fa-lg\"></i></button>');\n",
       "        button.click(method_name, toolbar_event);\n",
       "        button.mouseover(tooltip, toolbar_mouse_event);\n",
       "        nav_element.append(button);\n",
       "    }\n",
       "\n",
       "    // Add the status bar.\n",
       "    var status_bar = $('<span class=\"mpl-message\" style=\"text-align:right; float: right;\"/>');\n",
       "    nav_element.append(status_bar);\n",
       "    this.message = status_bar[0];\n",
       "\n",
       "    // Add the close button to the window.\n",
       "    var buttongrp = $('<div class=\"btn-group inline pull-right\"></div>');\n",
       "    var button = $('<button class=\"btn btn-mini btn-primary\" href=\"#\" title=\"Stop Interaction\"><i class=\"fa fa-power-off icon-remove icon-large\"></i></button>');\n",
       "    button.click(function (evt) { fig.handle_close(fig, {}); } );\n",
       "    button.mouseover('Stop Interaction', toolbar_mouse_event);\n",
       "    buttongrp.append(button);\n",
       "    var titlebar = this.root.find($('.ui-dialog-titlebar'));\n",
       "    titlebar.prepend(buttongrp);\n",
       "}\n",
       "\n",
       "mpl.figure.prototype._root_extra_style = function(el){\n",
       "    var fig = this\n",
       "    el.on(\"remove\", function(){\n",
       "\tfig.close_ws(fig, {});\n",
       "    });\n",
       "}\n",
       "\n",
       "mpl.figure.prototype._canvas_extra_style = function(el){\n",
       "    // this is important to make the div 'focusable\n",
       "    el.attr('tabindex', 0)\n",
       "    // reach out to IPython and tell the keyboard manager to turn it's self\n",
       "    // off when our div gets focus\n",
       "\n",
       "    // location in version 3\n",
       "    if (IPython.notebook.keyboard_manager) {\n",
       "        IPython.notebook.keyboard_manager.register_events(el);\n",
       "    }\n",
       "    else {\n",
       "        // location in version 2\n",
       "        IPython.keyboard_manager.register_events(el);\n",
       "    }\n",
       "\n",
       "}\n",
       "\n",
       "mpl.figure.prototype._key_event_extra = function(event, name) {\n",
       "    var manager = IPython.notebook.keyboard_manager;\n",
       "    if (!manager)\n",
       "        manager = IPython.keyboard_manager;\n",
       "\n",
       "    // Check for shift+enter\n",
       "    if (event.shiftKey && event.which == 13) {\n",
       "        this.canvas_div.blur();\n",
       "        // select the cell after this one\n",
       "        var index = IPython.notebook.find_cell_index(this.cell_info[0]);\n",
       "        IPython.notebook.select(index + 1);\n",
       "    }\n",
       "}\n",
       "\n",
       "mpl.figure.prototype.handle_save = function(fig, msg) {\n",
       "    fig.ondownload(fig, null);\n",
       "}\n",
       "\n",
       "\n",
       "mpl.find_output_cell = function(html_output) {\n",
       "    // Return the cell and output element which can be found *uniquely* in the notebook.\n",
       "    // Note - this is a bit hacky, but it is done because the \"notebook_saving.Notebook\"\n",
       "    // IPython event is triggered only after the cells have been serialised, which for\n",
       "    // our purposes (turning an active figure into a static one), is too late.\n",
       "    var cells = IPython.notebook.get_cells();\n",
       "    var ncells = cells.length;\n",
       "    for (var i=0; i<ncells; i++) {\n",
       "        var cell = cells[i];\n",
       "        if (cell.cell_type === 'code'){\n",
       "            for (var j=0; j<cell.output_area.outputs.length; j++) {\n",
       "                var data = cell.output_area.outputs[j];\n",
       "                if (data.data) {\n",
       "                    // IPython >= 3 moved mimebundle to data attribute of output\n",
       "                    data = data.data;\n",
       "                }\n",
       "                if (data['text/html'] == html_output) {\n",
       "                    return [cell, data, j];\n",
       "                }\n",
       "            }\n",
       "        }\n",
       "    }\n",
       "}\n",
       "\n",
       "// Register the function which deals with the matplotlib target/channel.\n",
       "// The kernel may be null if the page has been refreshed.\n",
       "if (IPython.notebook.kernel != null) {\n",
       "    IPython.notebook.kernel.comm_manager.register_target('matplotlib', mpl.mpl_figure_comm);\n",
       "}\n"
      ],
      "text/plain": [
       "<IPython.core.display.Javascript object>"
      ]
     },
     "metadata": {},
     "output_type": "display_data"
    },
    {
     "data": {
      "text/html": [
       "<img src=\"data:image/png;base64,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\" width=\"799.9999826604674\">"
      ],
      "text/plain": [
       "<IPython.core.display.HTML object>"
      ]
     },
     "metadata": {},
     "output_type": "display_data"
    }
   ],
   "source": [
    "fig = plt.figure(figsize = (8,8))\n",
    "plt.scatter(Z[:,0], Z[:,1])\n",
    "for i in range(D):\n",
    "    plt.annotate(s=index_word_map[i], xy=(Z[i,0], Z[i,1]))\n",
    "plt.show()"
   ]
  },
  {
   "cell_type": "markdown",
   "metadata": {},
   "source": [
    "---------------------------------------------------------------------"
   ]
  },
  {
   "cell_type": "markdown",
   "metadata": {},
   "source": [
    "# Article Spinner Project"
   ]
  },
  {
   "cell_type": "code",
   "execution_count": null,
   "metadata": {
    "collapsed": true
   },
   "outputs": [],
   "source": []
  }
 ],
 "metadata": {
  "kernelspec": {
   "display_name": "Python 3",
   "language": "python",
   "name": "python3"
  },
  "language_info": {
   "codemirror_mode": {
    "name": "ipython",
    "version": 3
   },
   "file_extension": ".py",
   "mimetype": "text/x-python",
   "name": "python",
   "nbconvert_exporter": "python",
   "pygments_lexer": "ipython3",
   "version": "3.6.1"
  }
 },
 "nbformat": 4,
 "nbformat_minor": 2
}
